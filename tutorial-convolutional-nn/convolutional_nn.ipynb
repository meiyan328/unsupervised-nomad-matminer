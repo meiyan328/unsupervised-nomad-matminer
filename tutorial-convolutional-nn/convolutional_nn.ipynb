{
 "cells": [
  {
   "cell_type": "markdown",
   "metadata": {},
   "source": [
    "<div style=\"\n",
    "    background-color: #f7f7f7;\n",
    "    background-image: url('data:image/svg+xml;base64,PD94bWwgdmVyc2lvbj0iMS4wIiBlbmNvZGluZz0iVVRGLTgiIHN0YW5kYWxvbmU9Im5vIj8+CjxzdmcKICAgd2lkdGg9IjcyIgogICBoZWlnaHQ9IjczIgogICB2aWV3Qm94PSIwIDAgNzIgNzMiCiAgIGZpbGw9Im5vbmUiCiAgIHZlcnNpb249IjEuMSIKICAgaWQ9InN2ZzEzMTkiCiAgIHhtbG5zPSJodHRwOi8vd3d3LnczLm9yZy8yMDAwL3N2ZyIKICAgeG1sbnM6c3ZnPSJodHRwOi8vd3d3LnczLm9yZy8yMDAwL3N2ZyI+CiAgPGRlZnMKICAgICBpZD0iZGVmczEzMjMiIC8+CiAgPHBhdGgKICAgICBkPSJNIC0wLjQ5OTk4NSwxNDUgQyAzOS41MzMsMTQ1IDcyLDExMi41MzIgNzIsNzIuNSA3MiwzMi40Njc4IDM5LjUzMywwIC0wLjQ5OTk4NSwwIC00MC41MzI5LDAgLTczLDMyLjQ2NzggLTczLDcyLjUgYyAwLDQwLjAzMiAzMi40NjcxLDcyLjUgNzIuNTAwMDE1LDcyLjUgeiIKICAgICBmaWxsPSIjMDA4YTY3IgogICAgIGZpbGwtb3BhY2l0eT0iMC4yNSIKICAgICBpZD0icGF0aDEzMTciIC8+Cjwvc3ZnPgo='), url('data:image/svg+xml;base64,PD94bWwgdmVyc2lvbj0iMS4wIiBlbmNvZGluZz0iVVRGLTgiIHN0YW5kYWxvbmU9Im5vIj8+CjxzdmcKICAgd2lkdGg9IjIxNyIKICAgaGVpZ2h0PSIyMjMiCiAgIHZpZXdCb3g9IjAgMCAyMTcgMjIzIgogICBmaWxsPSJub25lIgogICB2ZXJzaW9uPSIxLjEiCiAgIGlkPSJzdmcxMTA3IgogICB4bWxucz0iaHR0cDovL3d3dy53My5vcmcvMjAwMC9zdmciCiAgIHhtbG5zOnN2Zz0iaHR0cDovL3d3dy53My5vcmcvMjAwMC9zdmciPgogIDxkZWZzCiAgICAgaWQ9ImRlZnMxMTExIiAvPgogIDxwYXRoCiAgICAgZD0ibSAyMi4wNDIsNDUuMDEwOSBjIDIxLjM2MjUsMjEuMjc1NyA1NS45NzYsMjEuMjc1NyA3Ny41MTkyLDAgQyAxMTkuNTU4LDI1LjA4IDE1MS41MDIsMjMuNzM1MiAxNzIuODY0LDQxLjM3OCBjIDEuMzQ1LDEuNTI1NCAyLjY5LDMuMjUxNiA0LjIzNiw0Ljc5NzEgMjEuMzYzLDIxLjI3NTYgMjEuMzYzLDU1Ljc5ODkgMCw3Ny4yNTQ5IC0yMS4zNjIsMjEuMjc2IC0yMS4zNjIsNTUuNzk4IDAsNzcuMjU1IDIxLjM2MywyMS40NTYgNTUuOTc2LDIxLjI3NSA3Ny41MiwwIDIxLjU0MywtMjEuMjc2IDIxLjM2MiwtNTUuNzk5IDAsLTc3LjI1NSAtMjEuMzYzLC0yMS4yNzYgLTIxLjM2MywtNTUuNzk4NiAwLC03Ny4yNTQ5IDEyLjY4OSwtMTIuNjQ1IDE3Ljg4OSwtMzAuMTA3MSAxNS4zOTksLTQ2LjU4NTc2IC0xLjU0NiwtMTEuNTAwOTQgLTYuNzI2LC0yMi44MjExNCAtMTUuNTgsLTMxLjYzMjU0IC0yMS4zNjMsLTIxLjI3NTYgLTU1Ljk3NiwtMjEuMjc1NiAtNzcuNTE5LDAgLTIxLjM2MywyMS4yNzU3IC01NS45NzYsMjEuMjc1NyAtNzcuNTE5NCwwIC0yMS4zNjI1LC0yMS4yNzU2IC01NS45NzYxLC0yMS4yNzU2IC03Ny41MTkyLDAgQyAwLjY3OTU2NSwtMTAuNzg3NiAwLjY3OTU5NiwyMy43MzUyIDIyLjA0Miw0NS4wMTA5IFoiCiAgICAgZmlsbD0iIzJhNGNkZiIKICAgICBzdHJva2U9IiMyYTRjZGYiCiAgICAgc3Ryb2tlLXdpZHRoPSIxMiIKICAgICBzdHJva2UtbWl0ZXJsaW1pdD0iMTAiCiAgICAgaWQ9InBhdGgxMTA1IiAvPgogIDxwYXRoCiAgICAgZD0ibSA1MS45OTUyMTIsMjIyLjczMDEzIGMgMjguMzU5MSwwIDUxLjM1ODM5OCwtMjIuOTk5OSA1MS4zNTgzOTgsLTUxLjM1ODQgMCwtMjguMzU4NiAtMjIuOTk5Mjk4LC01MS4zNTg1OSAtNTEuMzU4Mzk4LC01MS4zNTg1OSAtMjguMzU5MSwwIC01MS4zNTg2MDIsMjIuOTk5OTkgLTUxLjM1ODYwMiw1MS4zNTg1OSAwLDI4LjM1ODUgMjIuOTk5NTAyLDUxLjM1ODQgNTEuMzU4NjAyLDUxLjM1ODQgeiIKICAgICBmaWxsPSIjMTkyZTg2IgogICAgIGZpbGwtb3BhY2l0eT0iMC4zNSIKICAgICBpZD0icGF0aDE5MzciIC8+Cjwvc3ZnPgo=') ;\n",
    "    background-position: left bottom, right top;\n",
    "    background-repeat: no-repeat,  no-repeat;\n",
    "    background-size: auto 60px, auto 160px;\n",
    "    border-radius: 5px;\n",
    "    box-shadow: 0px 3px 1px -2px rgba(0, 0, 0, 0.2), 0px 2px 2px 0px rgba(0, 0, 0, 0.14), 0px 1px 5px 0px rgba(0,0,0,.12);\">\n",
    "\n",
    "<h1 style=\"\n",
    "    color: #2a4cdf;\n",
    "    font-style: normal;\n",
    "    font-size: 5rem;\n",
    "    line-height: 1.4em;\n",
    "    font-weight: 4600;\n",
    "    padding: 30px 200px 0px 30px;\">\n",
    "    Introduction to convolutional neural networks</h1>\n",
    "\n",
    "<p style=\"font-size: 1.25em; font-style: italic; padding: 5px 200px 30px 30px;\">\n",
    "    Angelo Ziletti, Andreas Leitherer and Luca M. Ghiringhelli</p>\n",
    "</div>\n",
    "\n",
    "<div style=\"margin: 10px;\">\n",
    "    <img style=\"float: left; margin: 5px 20px 0px 0px;\" src=\"assets/logos/hu-berlin.svg\" width=\"110\">\n",
    "    <img style=\"float: left; margin: 0px 20px 0px 0px;\" src=\"assets/logos/nomad.svg\" width=\"110\">\n",
    "    <img style=\"float: left; margin: 15px 20px 0px 0px;\" src=\"assets/logos/nomad-infrastructure.svg\" width=\"120\">\n",
    "    <img style=\"float: left; margin: 5px 20px 0px 10px;\" src=\"assets/logos/mpcdf.svg\" width=\"270\">\n",
    "</div>\n",
    "<p style=\"text-align: right; padding: 0px 10px 10px 0px;\">[Last updated: February, 2024]</p>"
   ]
  },
  {
   "cell_type": "markdown",
   "metadata": {},
   "source": [
    "In this tutorial, we briefly introduce the main ideas behind convolutional neural networks, build a neural network model with Keras, and explain the classification decision process using attentive response maps."
   ]
  },
  {
   "cell_type": "markdown",
   "metadata": {},
   "source": [
    "## Load packages needed"
   ]
  },
  {
   "cell_type": "markdown",
   "metadata": {},
   "source": [
    "We first load the packages that we will need to perform this tutorial."
   ]
  },
  {
   "cell_type": "code",
   "execution_count": 2,
   "metadata": {
    "ExecuteTime": {
     "end_time": "2020-01-31T16:07:53.077441Z",
     "start_time": "2020-01-31T16:07:49.017039Z"
    }
   },
   "outputs": [
    {
     "ename": "ModuleNotFoundError",
     "evalue": "No module named 'tensorflow'",
     "output_type": "error",
     "traceback": [
      "\u001b[0;31m---------------------------------------------------------------------------\u001b[0m",
      "\u001b[0;31mModuleNotFoundError\u001b[0m                       Traceback (most recent call last)",
      "Cell \u001b[0;32mIn [2], line 4\u001b[0m\n\u001b[1;32m      1\u001b[0m \u001b[38;5;28;01mimport\u001b[39;00m \u001b[38;5;21;01mwarnings\u001b[39;00m\n\u001b[1;32m      2\u001b[0m warnings\u001b[38;5;241m.\u001b[39msimplefilter(action\u001b[38;5;241m=\u001b[39m\u001b[38;5;124m'\u001b[39m\u001b[38;5;124mignore\u001b[39m\u001b[38;5;124m'\u001b[39m, category\u001b[38;5;241m=\u001b[39m\u001b[38;5;167;01mFutureWarning\u001b[39;00m)\n\u001b[0;32m----> 4\u001b[0m \u001b[38;5;28;01mimport\u001b[39;00m \u001b[38;5;21;01mtensorflow\u001b[39;00m \u001b[38;5;28;01mas\u001b[39;00m \u001b[38;5;21;01mtf\u001b[39;00m\n\u001b[1;32m      5\u001b[0m tf\u001b[38;5;241m.\u001b[39mlogging\u001b[38;5;241m.\u001b[39mset_verbosity(tf\u001b[38;5;241m.\u001b[39mlogging\u001b[38;5;241m.\u001b[39mERROR) \u001b[38;5;66;03m# Suppress TF warnings\u001b[39;00m\n\u001b[1;32m      7\u001b[0m \u001b[38;5;28;01mimport\u001b[39;00m \u001b[38;5;21;01mkeras\u001b[39;00m\n",
      "\u001b[0;31mModuleNotFoundError\u001b[0m: No module named 'tensorflow'"
     ]
    }
   ],
   "source": [
    "import warnings\n",
    "warnings.simplefilter(action='ignore', category=FutureWarning)\n",
    "\n",
    "import tensorflow as tf\n",
    "tf.logging.set_verbosity(tf.logging.ERROR) # Suppress TF warnings\n",
    "\n",
    "import keras\n",
    "from keras.datasets import mnist\n",
    "from keras.models import Sequential, load_model\n",
    "from keras.layers import Dense, Dropout, Flatten\n",
    "from keras.layers import Conv2D, MaxPooling2D\n",
    "from keras import backend as K\n",
    "\n",
    "from scipy import signal\n",
    "import scipy.misc\n",
    "import numpy as np\n",
    "import matplotlib.pyplot as plt\n",
    "import json\n",
    "\n",
    "import urllib.request"
   ]
  },
  {
   "cell_type": "markdown",
   "metadata": {},
   "source": [
    "## 1. Introduction to Convolutional Neural Networks \n",
    "\n",
    "This introduction is mainly taken from Ref. [1], to which we refer the interested reader for more details."
   ]
  },
  {
   "cell_type": "markdown",
   "metadata": {},
   "source": [
    "Convolutional networks are a specialized kind of neural network for processing data that has a known **grid-like topology**; they are networks that use convolution in place of general matrix multiplication in at least one of their layers.\n",
    "\n",
    "Examples of such data include time-series data (1-D grid with samples at regular time intervals) and image data (2-D grid of pixels).   \n",
    "Convolutional networks have been tremendously successful in practical applications, especially in computer vision. \n",
    "\n",
    "The name \"convolutional neural network\" indicates that the network employs a mathematical operation called convolution. Convolution is a specialized kind of linear operation. \n",
    "\n",
    "\n",
    "A typical layer of a convolutional network consists of three stages:\n",
    "1. **Convolution** stage: the layer performs several convolutions in parallel to produce a set of linear activations (see Sec. 3 for more details).\n",
    "\n",
    "2. **Detector** stage: each linear activation is run through a nonlinear activation function (e.g. rectified linear \n",
    "activation function, sigmoid or tanh function)\n",
    "\n",
    "3. **Pooling** stage: a pooling function is used to modify (downsample) the output of the layer. A pooling function replaces the output of the network at a certain location with a summary statistic of the nearby outputs. For example, the max pooling operation reports the maximum output within a rectangular neighborhood. Other popular pooling functions include the average of a rectangular neighborhood, the $L^2$ norm of a rectangular neighborhood, or a weighted average based on the distance from the central pixel.\n",
    "\n",
    "#### Max pooling example\n",
    "\n",
    "![maxpool.jpg](assets/convolutional_nn/maxpool.jpeg)\n",
    "Figure from http://cs231n.github.io/convolutional-networks/\n",
    "\n",
    "\n",
    "#### Average pooling example\n",
    "\n",
    "![avg_pooling_example.png](assets/convolutional_nn/avg_pooling_example.png)\n",
    "Figure from https://github.com/vdumoulin/conv_arithmetic\n",
    "\n"
   ]
  },
  {
   "cell_type": "markdown",
   "metadata": {},
   "source": [
    "### 2. Motivation\n",
    "Why one should use convolutional neural networks instead of simple (fully connected) neural networks?\n",
    "\n",
    "Convolution leverages three important ideas that can help improve a machine learning system: \n",
    "- **sparse interactions**\n",
    "- **parameter sharing**\n",
    "- **equivariant representations**   \n",
    "\n",
    "Moreover, convolution provides a means for working with inputs of variable size - while this is not possible with fully connected neural networks (also called multi-layer perceptrons).\n",
    "\n",
    "#### 2.1 Sparse interactions\n",
    "##### Fully connected NN\n",
    "It uses matrix multiplication by a matrix of parameters with a separate parameter describing the interaction between each input unit and each output unit. This means that every output unit interacts with every input unit. This do not scale well to full images. For example, an image of 200x200x3 would lead to neurons that have 200x200x3 = 120,000 weights. Moreover, we would almost certainly want to have several such neurons. Clearly, this full connectivity is wasteful and the huge number of parameters would quickly lead to overfitting.\n",
    "##### CNN\n",
    "It achieves sparse interactions (sparse connectivity) by making the kernel smaller than the input. When processing an image, we can detect small, meaningful features such as edges with kernels that occupy only tens or hundreds of pixels. (*see Sec. 3.3.2 for two concrete examples*).   \n",
    "This means that we need to store fewer parameters, which both reduces the memory requirements of the model and improves its statistical efficiency. It also means that computing the output requires fewer operations. If there are $m$ inputs and $n$ outputs, then matrix multiplication requires $m \\times n$ parameters, and the algorithms used in practice have $O(m \\times n)$ runtime (per example). If we limit the number of connections each output may have to $k$, then the sparsely connected approach requires only $k \\times n$ parameters and $O(k \\times n)$ runtime. For many practical applications, $k$ is several orders of magnitude smaller than $m$.\n",
    "\n",
    "#### 2.2 Parameter sharing\n",
    "It refers to using the same parameter for more than one function in a model. \n",
    "\n",
    "##### Fully connected NN\n",
    "Each element of the weight matrix is used exactly once when computing the output of a layer.\n",
    "\n",
    "##### CNN\n",
    "Each member of the kernel is used at every position of the input. The parameter sharing used by the convolution operation means that rather than learning a separate set of parameters for every location, we learn only one set. This further reduce the storage requirements of the model to $k$ parameters. Recall that $k$ is usually several orders of magnitude smaller than $m$. Since $m$ and $n$ are usually roughly the same size, $k$ is practically insignificant compared to $m \\times n$. Convolution is thus dramatically more efficient than dense matrix multiplication in terms of the memory requirements and statistical efficiency.  \n",
    "\n",
    "\n",
    "#### 2.3 Equivariant representations\n",
    "\n",
    "Parameter sharing causes the layer to have **equivariance to translation**. To say a function is equivariant means that if the input changes, the output changes in the same way.\n",
    "\n",
    "When processing time-series data, this means that convolution produces a sort of timeline that shows when different features appear in the input. If we move an event later in time in the input, the exact same representation of it will appear in the output, just later. Similarly with images, convolution creates a 2-D map of where certain features appear in the input. If we move the object in the input, its representation will move the same amount in the output. This is useful for when we know that some function of a small number of neighboring pixels is useful when applied to multiple input locations."
   ]
  },
  {
   "cell_type": "markdown",
   "metadata": {},
   "source": [
    "## 3. The convolution operation\n",
    "\n",
    "### 3.1 Summary and intuition\n",
    "The convolutional layer's parameters consist of a set of learnable filters. Every filter is small spatially (along width and height), but extends through the full depth of the input volume. For example, a typical filter on a first layer of a ConvNet might have size 5x5x3 (i.e. 5 pixels width and height, and 3 because images have depth 3, the color channels). \n",
    "\n",
    "* During the forward pass, we slide (more precisely, convolve) each filter across the width and height of the input volume and compute dot products between the entries of the filter and the input at any position. Intuitively, a convolution can be thought as a sliding (weighted) average.   \n",
    "\n",
    "* As we slide the filter over the width and height of the input volume we will produce a 2-dimensional activation map that gives the responses of that filter at every spatial position. Intuitively, the network will learn filters that activate when they see some type of visual feature such as an edge of some orientation or a blotch of some color on the first layer, or eventually entire honeycomb or wheel-like patterns on higher layers of the network. \n",
    "\n",
    "* At this stage, we have an entire set of filters in each convolutional layer (e.g. 12 filters), and each of them produce a separate 2-dimensional activation map. We stack these activation maps along the depth dimension and produce the output volume.\n",
    "\n",
    "Below, you can see a representation on how the convolution operation is performed.\n",
    "![AnimationConvolution](assets/convolutional_nn/padding_strides.gif \"convolution\")\n",
    "\n",
    "Animation from: https://github.com/vdumoulin/conv_arithmetic/blob/master/gif/padding_strides.gif"
   ]
  },
  {
   "cell_type": "markdown",
   "metadata": {},
   "source": [
    "### 3.2 Mathematical formulation - from Ref. [1]\n",
    "\n",
    "#### Main idea\n",
    "Suppose we are tracking the location of a spaceship with a laser sensor. Our laser sensor provides a single output $x(t)$, the position of the spaceship at time $t$. Now suppose that our laser sensor is somewhat noisy. To obtain a less noisy estimate of the spaceship’s position, we would like to average several measurements. Of course, more recent measurements are more relevant, so we will want this to be a weighted average that gives more weight to recent measurements. We can do this with a weighting function $w(a)$, where $a$ is the age of a measurement.    \n",
    "If we apply such a weighted average operation at every moment, we obtain a new function $s$ providing a smoothed estimate of the position of the spaceship:    \n",
    "\n",
    "$s(t) = \\int x(a)w(t− a)da$\n",
    "\n",
    "This operation is called **convolution**.   \n",
    "\n",
    "The convolution operation is typically denoted with an asterisk:    \n",
    "\n",
    "$s(t) = ( x ∗ w )( t )$\n",
    "\n",
    "In convolutional network terminology, the first argument (in this example, the function $x$) to the convolution is often referred to as the **input**, and the second argument (in this example, the function $w$) as the **kernel**. The output is sometimes referred to as the **feature map**.\n",
    "\n",
    "#### Discrete version - 1D [optional]\n",
    "Let us assume that time index $t$ can then take on only integer values. If we now assume that $x$ and $w$ are defined only on integer $t$, we can define the discrete convolution:   \n",
    "\n",
    "$s(t) = ( x ∗ w )( t ) = \\sum_{a=-\\infty}^{+\\infty} x(a)w(t− a)$\n",
    "\n",
    "#### Discrete version - 2D [optional]\n",
    "$S(i,j) = (I ∗ k)(i,j) = \\sum_{m}\\sum_{n} I(m,n)K(i-m,j-n)$   \n",
    "\n",
    "Convolution is commutative, so we can write:    \n",
    "\n",
    "$S(i,j) = (K ∗ I)(i,j) = \\sum_{m}\\sum_{n} I(i-m,j-n)K(m,n)$   \n",
    "\n",
    "Usually the latter formula is more straightforward to implement in a machine learning library, because there is less variation in the range of valid values of $m$ and $n$. The commutative property of convolution arises because we have flipped the kernel relative to the input, in the sense that as $m$ increases, the index into the input increases, but the index into the kernel decreases. The only reason to flip the kernel is to obtain the commutative property. While the commutative property is useful for writing proofs, it is not usually an important property of a neural network implementation.   \n",
    "\n",
    "Instead, many neural network libraries implement a related function called the cross-correlation, which is the same as convolution but without flipping the kernel:\n",
    "\n",
    "$S(i,j) = (I ∗ K)(i,j) = \\sum_{m}\\sum_{n} I(i+m,j+n)K(m,n)$   \n",
    "\n",
    "Many machine learning libraries implement cross-correlation but call it *convolution*. In the context of machine learning, the learning algorithm will learn the appropriate values of the kernel in the appropriate place, so an algorithm based on convolution with kernel flipping will learn a kernel that is flipped relative to the kernel learned by an algorithm without the flipping.   "
   ]
  },
  {
   "cell_type": "markdown",
   "metadata": {},
   "source": [
    "## 3.3 Examples\n",
    "\n",
    "### 3.3.1 Example: computing output value of a discrete convolution (from Ref. [3])\n",
    "We present below the calculation of the discrete convolution of a 3x3 kernel $K_{\\rm ex}$ (with no padding and stride 1):   \n",
    "$K_{\\rm ex} = \\begin{pmatrix}\n",
    "0 & 1 & 2 \\\\  \n",
    "2 & 2 & 0 \\\\  \n",
    "0 & 1 & 2  \n",
    "\\end{pmatrix}$   \n",
    "\n",
    "![SegmentLocal](assets/convolutional_nn/output_discrete_convolution.png \"segment\")"
   ]
  },
  {
   "cell_type": "markdown",
   "metadata": {},
   "source": [
    "### 3.3.2 Example: convolution in practice on real images"
   ]
  },
  {
   "cell_type": "markdown",
   "metadata": {},
   "source": [
    "We now perform a convolution operation on real images. We use a photo of Max Planck, and a Berlin landscape."
   ]
  },
  {
   "cell_type": "code",
   "execution_count": null,
   "metadata": {
    "ExecuteTime": {
     "end_time": "2020-01-31T16:14:27.840047Z",
     "start_time": "2020-01-31T16:14:24.991881Z"
    }
   },
   "outputs": [],
   "source": [
    "# this can be skipped because the images are already saved on the server\n",
    "\n",
    "# retrieve image of Max Planck from wikipedia\n",
    "print(\"Retrieving picture of Max Planck. Saving image to './img_max_planck.jpg'.\")\n",
    "urllib.request.urlretrieve(\"https://upload.wikimedia.org/wikipedia/commons/thumb/c/c7/Max_Planck_1933.jpg/220px-Max_Planck_1933.jpg\", \"./img_max_planck.jpg\")\n",
    "\n",
    "# retrieve a picture of Berlin\n",
    "print(\"Retrieving picture of Berlin landscape. Saving image to './img_berlin_landscape.jpg'.\")\n",
    "urllib.request.urlretrieve(\"https://upload.wikimedia.org/wikipedia/commons/thumb/c/cf/Berlin_-_Schloss_Charlottenburg_Reiterstandbild_%26_Schlossturm.jpg/360px-Berlin_-_Schloss_Charlottenburg_Reiterstandbild_%26_Schlossturm.jpg\", \"./img_berlin_landscape.jpg\")\n",
    "\n",
    "print(\"Done.\")"
   ]
  },
  {
   "cell_type": "markdown",
   "metadata": {},
   "source": [
    "We define a function to display images in a single figure; it is not important for the purpose of this tutorial to understand this function implementation."
   ]
  },
  {
   "cell_type": "code",
   "execution_count": null,
   "metadata": {
    "ExecuteTime": {
     "end_time": "2020-01-31T16:14:29.172575Z",
     "start_time": "2020-01-31T16:14:29.153521Z"
    },
    "code_folding": [
     7
    ]
   },
   "outputs": [],
   "source": [
    "# function to display multiple images in a single figure\n",
    "def show_images(images, cols=1, titles=None, cmap='viridis', filename_out=None):\n",
    "    \"\"\"Display a list of images in a single figure with matplotlib.\n",
    "\n",
    "    Taken from https://stackoverflow.com/questions/11159436/multiple-figures-in-a-single-window\n",
    "\n",
    "    Parameters:\n",
    "\n",
    "    images: list of np.arrays\n",
    "        Images to be plotted. It must be compatible with plt.imshow.\n",
    "\n",
    "    cols: int,  optional, (default = 1)\n",
    "        Number of columns in figure (number of rows is\n",
    "        set to np.ceil(n_images/float(cols))).\n",
    "\n",
    "    titles: list of strings\n",
    "        List of titles corresponding to each image.\n",
    "\n",
    "    \"\"\"\n",
    "    plt.clf()\n",
    "    assert ((titles is None) or (len(images) == len(titles)))\n",
    "    n_images = len(images)\n",
    "    if titles is None:\n",
    "        titles = ['Image (%d)' % i for i in range(1, n_images + 1)]\n",
    "    fig = plt.figure()\n",
    "    for n, (image, title) in enumerate(zip(images, titles)):\n",
    "        a = fig.add_subplot(cols, np.ceil(n_images / float(cols)).astype(int), n + 1)\n",
    "        plt.imshow(image, cmap=cmap)\n",
    "        a.set_title(title, fontsize=40)\n",
    "        a.axis('off')  # clear x- and y-axes\n",
    "    fig.set_size_inches(np.array(fig.get_size_inches()) * n_images)\n",
    "    if filename_out is not None:\n",
    "        plt.savefig(filename_out, dpi=100, format='png')"
   ]
  },
  {
   "cell_type": "code",
   "execution_count": null,
   "metadata": {
    "ExecuteTime": {
     "end_time": "2020-01-31T16:14:30.214968Z",
     "start_time": "2020-01-31T16:14:30.086647Z"
    }
   },
   "outputs": [],
   "source": [
    "# read jpg files as numpy arrays\n",
    "img_max_planck = plt.imread('./img_max_planck.jpg')[:, :, 0]\n",
    "img_berlin_landscape = plt.imread('./img_berlin_landscape.jpg')[:, :, 0]"
   ]
  },
  {
   "cell_type": "markdown",
   "metadata": {},
   "source": [
    "#### Type of Kernels\n",
    "\n",
    "In Sec. 3.3.1, we used a randomly chosen matrix to perform our convolution; it turns out that there are some \"special\" kernel matrices that perform specific (and useful) transformation when convoluted with an image.\n",
    "Below, we present some example of these kernels.\n",
    "\n",
    "Please visit this page for more details: https://en.wikipedia.org/wiki/Kernel_(image_processing)\n",
    "\n",
    "$K_{\\rm identity } = \\begin{pmatrix}\n",
    "0 & 0 & 0 \\\\  \n",
    "0 & 1 & 0 \\\\  \n",
    "0 & 0 & 0  \n",
    "\\end{pmatrix}$   \n",
    "\n",
    "$K_{ \\rm boxblur} = \\dfrac{1}{9}\\begin{pmatrix}\n",
    "1 & 1 & 1 \\\\  \n",
    "1 & 1 & 1 \\\\  \n",
    "1 & 1 & 1  \n",
    "\\end{pmatrix}$   \n",
    "\n",
    "$K_{\\rm gaussianblur3x3} = \\dfrac{1}{16}\\begin{pmatrix}\n",
    "1 & 2 & 1 \\\\  \n",
    "2 & 4 & 2 \\\\  \n",
    "1 & 2 & 1  \n",
    "\\end{pmatrix}$   \n",
    "\n",
    "$K_{\\rm gaussianblur5x5} = \\dfrac{1}{256}\\begin{pmatrix}\n",
    "1 &  4 &  6 &  4 & 1 \\\\  \n",
    "4 & 16 & 24 & 16 & 4 \\\\  \n",
    "6 & 24 & 36 & 24 & 6 \\\\  \n",
    "4 & 16 & 24 & 16 & 4 \\\\  \n",
    "1 &  4 &  6 &  4 & 1 \n",
    "\\end{pmatrix}$  \n",
    "\n",
    "$K_{\\rm vlines} = \\begin{pmatrix}\n",
    "-1 & 2 & -1 \\\\  \n",
    "-1 & 2 & -1 \\\\  \n",
    "-1 & 2 & -1  \n",
    "\\end{pmatrix}$   \n",
    "\n",
    "$K_{\\rm hlines} = \\begin{pmatrix}\n",
    "-1 & -1 & -1 \\\\  \n",
    " 2 &  2 &  2 \\\\  \n",
    "-1 & -1 & -1  \n",
    "\\end{pmatrix}$   \n",
    "\n",
    "$K_{\\rm edges} = \\begin{pmatrix}\n",
    "-1 & -1 & -1 \\\\  \n",
    "-1 &  8 & -1 \\\\  \n",
    "-1 & -1 & -1  \n",
    "\\end{pmatrix}$         \n",
    "\n",
    "$K_{\\rm emboss} = \\begin{pmatrix}\n",
    "-2 & -1 &  0 \\\\  \n",
    "-1 &  1 &  1 \\\\  \n",
    " 0 &  1 &  2  \n",
    "\\end{pmatrix}$  "
   ]
  },
  {
   "cell_type": "markdown",
   "metadata": {},
   "source": [
    "Now we apply the convolution operation on both images (photo of Max Planck and the Berlin landscape) using each of the kernel above.\n",
    "In particular, we use the Scipy function `signal.convolve2d` to perform the convolution.   \n",
    "\n",
    "Please refer to the Scipy documentation for more details on this function: https://docs.scipy.org/doc/scipy/reference/generated/scipy.signal.convolve2d.html"
   ]
  },
  {
   "cell_type": "code",
   "execution_count": null,
   "metadata": {
    "ExecuteTime": {
     "end_time": "2020-01-31T16:14:36.274832Z",
     "start_time": "2020-01-31T16:14:36.245426Z"
    }
   },
   "outputs": [],
   "source": [
    "k_identity = np.array([[0., 0., 0.],\n",
    "                       [0., 1., 0.],\n",
    "                       [0., 0., 0.]])\n",
    "\n",
    "k_box_blur = 1./9. * np.array([[1., 1., 1.],\n",
    "                              [1., 1., 1.],\n",
    "                              [1., 1., 1.]])\n",
    "\n",
    "k_gauss_blur_3x3 = 1./16.* np.array([[0., 0., 0., 5., 0., 0., 0.],\n",
    "                              [0., 0., 18., 32., 18., 5., 0.],\n",
    "                              [0., 18., 64., 100., 64., 18., 0.],\n",
    "                              [5., 32., 100., 100., 100., 32., 5.],\n",
    "                              [0., 18., 64., 100., 64., 18., 0.],\n",
    "                              [0., 5., 18., 32., 18., 5., 0.],\n",
    "                              [0., 0., 0., 5., 0., 0., 0.]])\n",
    "\n",
    "k_gauss_blur_5x5 = 1./256.* np.array([[1.,  4.,  6.,  4., 1.],\n",
    "                                      [4., 16., 24., 16., 4.],\n",
    "                                      [6., 24., 36., 24., 6.],\n",
    "                                      [4., 16., 24., 16., 4.],\n",
    "                                      [1.,  4.,  6.,  4., 1.]])\n",
    "\n",
    "k_vlines = np.array([[-1., 2., -1.],\n",
    "                     [-1., 2., -1.],\n",
    "                     [-1., 2., -1.]])\n",
    "\n",
    "k_hlines = np.array([[-1., -1., -1.],\n",
    "                     [ 2.,  2.,  2.],\n",
    "                     [-1., -1., -1.]])\n",
    "\n",
    "k_edges = np.array([[-1., -1., -1.],\n",
    "                    [-1.,  8., -1.],\n",
    "                    [-1., -1., -1.]])\n",
    "\n",
    "# the emboss kernel gives the illusion of depth by emphasizing the differences of pixels in a given direction\n",
    "# in this case, in a direction along a line from the top left to the bottom right.\n",
    "k_emboss = np.array([[-2., -1., 0.],\n",
    "                     [-1.,  1., 1.],\n",
    "                     [ 0.,  1., 2.]])\n"
   ]
  },
  {
   "cell_type": "code",
   "execution_count": null,
   "metadata": {
    "ExecuteTime": {
     "end_time": "2020-01-31T16:14:37.151461Z",
     "start_time": "2020-01-31T16:14:36.906182Z"
    }
   },
   "outputs": [],
   "source": [
    "kernels = [k_identity, k_box_blur, k_vlines, k_hlines, k_edges, k_emboss]\n",
    "titles = ['original', 'box blur', 'vertical lines', 'horizontal lines', 'edges', 'emboss']\n",
    "\n",
    "# now apply the convolution for each kernel above\n",
    "max_planck_feature_maps = []\n",
    "berlin_landscape_feature_maps = []\n",
    "for kernel in kernels:\n",
    "    max_planck_feature_maps.append(signal.convolve2d(img_max_planck, kernel, boundary='symm', mode='same'))\n",
    "    berlin_landscape_feature_maps.append(signal.convolve2d(img_berlin_landscape, kernel, boundary='symm', mode='same'))"
   ]
  },
  {
   "cell_type": "code",
   "execution_count": null,
   "metadata": {
    "ExecuteTime": {
     "end_time": "2020-01-31T16:14:38.814111Z",
     "start_time": "2020-01-31T16:14:37.154074Z"
    }
   },
   "outputs": [],
   "source": [
    "show_images(images=max_planck_feature_maps, cols=2, titles=titles, cmap='gray')"
   ]
  },
  {
   "cell_type": "code",
   "execution_count": null,
   "metadata": {
    "ExecuteTime": {
     "end_time": "2020-01-31T16:14:43.760221Z",
     "start_time": "2020-01-31T16:14:41.938990Z"
    }
   },
   "outputs": [],
   "source": [
    "show_images(images=berlin_landscape_feature_maps, cols=2, titles=titles, cmap='gray')"
   ]
  },
  {
   "cell_type": "markdown",
   "metadata": {},
   "source": [
    "Looking at the pictures above, we notice that each kernel performed a pre-determined modification: \n",
    "1. blurring the picture\n",
    "2. highlighting vertical lines\n",
    "3. highlighting horizontal lines\n",
    "4. highlighting edges\n",
    "5. embossing (i.e. raising the pattern against the background)\n",
    "\n",
    "As you can see above, the effect are similar for both pictures, and it is defined by the kernel with which the image is convolved.\n",
    "\n",
    "In the case of **convolutional neural networks**, the **kernels** will not be the one reported above, but they are going to be **learned by the network** from the data (by minimizing the classification error). "
   ]
  },
  {
   "cell_type": "markdown",
   "metadata": {},
   "source": [
    "## 4. Convolutional neural network model with Keras"
   ]
  },
  {
   "cell_type": "markdown",
   "metadata": {},
   "source": [
    "Now, we build and train a convolutional neural network.\n",
    "\n",
    "As an example, we use the well-known MNIST dataset, a database of handwritten digits with training set of 60,000 examples, and a test set of 10,000 examples. \n",
    "\n",
    "This is a sample of the hand-written digits present in the database:\n",
    "![mnist_examples.png](assets/convolutional_nn/MnistExamples.png)\n",
    "Figure from https://en.wikipedia.org/wiki/File:MnistExamples.png\n",
    "\n",
    "If you are interested to know more about this database, please refer to https://en.wikipedia.org/wiki/MNIST_database\n"
   ]
  },
  {
   "cell_type": "markdown",
   "metadata": {},
   "source": [
    "### 4.1 Get the MNIST dataset and load it"
   ]
  },
  {
   "cell_type": "markdown",
   "metadata": {},
   "source": [
    "With the code below, we download the MNIST dataset using the built-in Keras module, and then recast it in numpy arrays."
   ]
  },
  {
   "cell_type": "code",
   "execution_count": null,
   "metadata": {
    "ExecuteTime": {
     "end_time": "2020-01-31T16:15:00.451462Z",
     "start_time": "2020-01-31T16:14:50.496500Z"
    },
    "code_folding": []
   },
   "outputs": [],
   "source": [
    "# this is the code from https://github.com/keras-team/keras/blob/master/examples/mnist_cnn.py\n",
    "batch_size = 128\n",
    "num_classes = 10\n",
    "\n",
    "# input image dimensions\n",
    "img_rows, img_cols = 28, 28\n",
    "\n",
    "# the data, split between train and test sets\n",
    "(x_train, y_train), (x_test, y_test) = mnist.load_data()\n",
    "\n",
    "if K.image_data_format() == 'channels_first':\n",
    "    x_train = x_train.reshape(x_train.shape[0], 1, img_rows, img_cols)\n",
    "    x_test = x_test.reshape(x_test.shape[0], 1, img_rows, img_cols)\n",
    "    input_shape = (1, img_rows, img_cols)\n",
    "else:\n",
    "    x_train = x_train.reshape(x_train.shape[0], img_rows, img_cols, 1)\n",
    "    x_test = x_test.reshape(x_test.shape[0], img_rows, img_cols, 1)\n",
    "    input_shape = (img_rows, img_cols, 1)\n",
    "\n",
    "x_train = x_train.astype('float32')\n",
    "x_test = x_test.astype('float32')\n",
    "x_train /= 255\n",
    "x_test /= 255\n",
    "\n",
    "print('x_train shape:', x_train.shape)\n",
    "print(x_train.shape[0], 'train samples')\n",
    "print(x_test.shape[0], 'test samples')\n",
    "\n",
    "# convert class vectors to binary class matrices\n",
    "y_train = keras.utils.to_categorical(y_train, num_classes)\n",
    "y_test = keras.utils.to_categorical(y_test, num_classes)"
   ]
  },
  {
   "cell_type": "markdown",
   "metadata": {},
   "source": [
    "### 4.2 Convolutional neural network (without regularization)\n",
    "\n",
    "We now build a convolutional neural network using Keras, a simple and intuitive high-level neural networks API, written in Python and capable of running on top of TensorFlow, CNTK, or Theano; it also runs seamlessly on CPU and GPU.\n",
    "\n",
    "For more information on Keras, please visit https://keras.io/. Note that this link refers to the newest version of Keras (>2.4), which only supports Tensorflow (https://www.tensorflow.org/) as a backend. This tutorial (as well as the one on multilayer perceptrons) is compatible with versions <=2.3 which allows multiple backends (CNTK, Tensorflow, Theano). There are only slight differences in syntax and you can find archived documentations at https://github.com/faroit/keras-docs, e.g., for \n",
    "version 2.1.5 https://faroit.com/keras-docs/2.1.5/. In both tutorials, we use tensorflow as backend (version <2.0).\n",
    "\n",
    "We start by defining the architecture (i.e. the shape) of the network. We use two convolutional layers, one max pooling, and one fully connected layer. There is no particular reason behind this choice, and other - better performing - choices are possible."
   ]
  },
  {
   "cell_type": "code",
   "execution_count": null,
   "metadata": {},
   "outputs": [],
   "source": [
    "model_no_reg = Sequential()\n",
    "model_no_reg.add(Conv2D(32, kernel_size=(3, 3),\n",
    "                 activation='relu',\n",
    "                 input_shape=input_shape))\n",
    "model_no_reg.add(Conv2D(64, (3, 3), activation='relu'))\n",
    "model_no_reg.add(MaxPooling2D(pool_size=(2, 2)))\n",
    "model_no_reg.add(Flatten())\n",
    "model_no_reg.add(Dense(128, activation='relu'))\n",
    "model_no_reg.add(Dense(num_classes, activation='softmax', name='preds'))\n",
    "\n",
    "# compile the model before starting training\n",
    "model_no_reg.compile(loss=keras.losses.categorical_crossentropy,\n",
    "              optimizer=keras.optimizers.Adadelta(),\n",
    "              metrics=['accuracy'])\n",
    "\n",
    "# print a model summary\n",
    "model_no_reg.summary()"
   ]
  },
  {
   "cell_type": "markdown",
   "metadata": {},
   "source": [
    "Now, we train the neural network; you can decide the number of epoch you want to use. The more epochs, the more time the network will be able to see the training samples, but this will result in an increase of computational time (proportional to `nb_epochs`).\n",
    "\n",
    "An **epoch** is a single step in training a neural network; one epoch is completed when the neural network has seen every training sample once. \n",
    "\n",
    "<span style=\"color:red\"> **Run the cell below to start training your first convolutional neural network. For the current setting for the number of epochs, the full optimization should take approximately 30 minutes (~5 min per epoch); please take this time to read carefully the materials above, and maybe check out some external references. To save time, you can load a pretrained model via setting \"reload=True\" in the below cell (the standard behaviour) while setting \"reload=False\" allows you to start with a fresh model**</span>."
   ]
  },
  {
   "cell_type": "code",
   "execution_count": null,
   "metadata": {},
   "outputs": [],
   "source": [
    "nb_epochs = 7\n",
    "reload = True\n",
    "\n",
    "if reload:\n",
    "    model_no_reg = load_model('./data/convolutional_nn/model_no_reg.h5')\n",
    "    with open('./data/convolutional_nn/history_no_reg.json') as json_file:\n",
    "        history_no_reg = json.load(json_file)\n",
    "\n",
    "else:\n",
    "    # train the model for the specified nb_epochs\n",
    "    history_no_reg = model_no_reg.fit(x_train, y_train,\n",
    "              batch_size=batch_size,\n",
    "              epochs=nb_epochs,\n",
    "              verbose=1,\n",
    "              validation_data=(x_test, y_test))\n",
    "    # save new model and history\n",
    "    model_no_reg.save('model_no_reg_new.h5')\n",
    "    with open('./data/convolutional_nn/history_no_reg_new.json', 'w') as outfile:\n",
    "        json.dump(history_no_reg.history, outfile)\n",
    "    history_no_reg = history_no_reg.history\n",
    "\n",
    "# evaluate the model performance on the test set\n",
    "score = model_no_reg.evaluate(x_test, y_test, verbose=0)\n",
    "\n",
    "print('Test loss:', score[0])\n",
    "print('Test accuracy:', score[1])"
   ]
  },
  {
   "cell_type": "markdown",
   "metadata": {},
   "source": [
    "#### Training history visualization"
   ]
  },
  {
   "cell_type": "code",
   "execution_count": null,
   "metadata": {},
   "outputs": [],
   "source": [
    "# Plot training & validation accuracy values\n",
    "plt.plot(history_no_reg['acc'])\n",
    "plt.plot(history_no_reg['val_acc'])\n",
    "plt.title('Model accuracy')\n",
    "plt.ylabel('Accuracy')\n",
    "plt.xlabel('Epoch')\n",
    "plt.legend(['Train', 'Test'], loc='upper left')\n",
    "plt.show()"
   ]
  },
  {
   "cell_type": "code",
   "execution_count": null,
   "metadata": {},
   "outputs": [],
   "source": [
    "# Plot training & validation loss values\n",
    "plt.plot(history_no_reg['loss'])\n",
    "plt.plot(history_no_reg['val_loss'])\n",
    "plt.title('Model loss')\n",
    "plt.ylabel('Loss')\n",
    "plt.xlabel('Epoch')\n",
    "plt.legend(['Train', 'Test'], loc='upper left')\n",
    "plt.show()"
   ]
  },
  {
   "cell_type": "markdown",
   "metadata": {},
   "source": [
    "#### Questions\n",
    "\n",
    "1. Look at the *Accuracy plot* above. Which information can you gather from it? What is happening to the *training* and *test* accuracy over epochs?\n",
    "2. Is the behavior of *training* and *test* accuracy that you are observing desirable? Is *overfitting* occurring?\n",
    "3. Should you look at the *training* or at the *test* accuracy to have an estimate of the generalization ability of the model?\n",
    "4. Compare the *Accuracy plot* with the *Model loss plot* below. Do they show the same qualitative behavior?\n"
   ]
  },
  {
   "cell_type": "markdown",
   "metadata": {},
   "source": [
    "### 4.3 Adding regularization (using dropout layers)"
   ]
  },
  {
   "cell_type": "markdown",
   "metadata": {},
   "source": [
    "As we discussed in the tutorial on multilayer perceptrons, regularization techniques are extremely useful to improve the generalization ability of machine learning models. We will again use dropout, now in context of convolutional neural networks, and investigate its influence on model performance."
   ]
  },
  {
   "cell_type": "code",
   "execution_count": null,
   "metadata": {},
   "outputs": [],
   "source": [
    "model = Sequential()\n",
    "model.add(Conv2D(32, kernel_size=(3, 3),\n",
    "                 activation='relu',\n",
    "                 input_shape=input_shape))\n",
    "model.add(Conv2D(64, (3, 3), activation='relu'))\n",
    "model.add(MaxPooling2D(pool_size=(2, 2)))\n",
    "model.add(Dropout(0.25)) # dropout layer to regularize\n",
    "model.add(Flatten())\n",
    "model.add(Dense(128, activation='relu'))\n",
    "model.add(Dropout(0.5))  # dropout layer to regularize\n",
    "model.add(Dense(num_classes, activation='softmax', name='preds'))\n",
    "\n",
    "# compile the model before starting training\n",
    "model.compile(loss=keras.losses.categorical_crossentropy,\n",
    "              optimizer=keras.optimizers.Adadelta(),\n",
    "              metrics=['accuracy'])\n",
    "\n",
    "# print a model summary\n",
    "model.summary()"
   ]
  },
  {
   "cell_type": "markdown",
   "metadata": {},
   "source": [
    " <span style=\"color:red\"> **Run the cell below to start training your *regularized* convolutional neural network. For the current setting for the number of epochs, the full optimization should take approximately 30 minutes (~5 min per epoch); please take this time to read carefully the materials above, and maybe check out some external references. To save time, you can load a pretrained model via setting \"reload=True\" in the below cell (the standard behaviour) while setting \"reload=False\" allows you to start with a fresh model**</span>."
   ]
  },
  {
   "cell_type": "code",
   "execution_count": null,
   "metadata": {},
   "outputs": [],
   "source": [
    "nb_epochs = 7\n",
    "reload = True\n",
    "\n",
    "if reload:\n",
    "    model = load_model('./data/convolutional_nn/model_w_reg.h5')\n",
    "    with open('./data/convolutional_nn/history_w_reg.json') as json_file:\n",
    "        history = json.load(json_file)\n",
    "\n",
    "else:\n",
    "    # train the model for the specified nb_epochs\n",
    "    history = model.fit(x_train, y_train,\n",
    "              batch_size=batch_size,\n",
    "              epochs=nb_epochs,\n",
    "              verbose=1,\n",
    "              validation_data=(x_test, y_test))\n",
    "    model.save('./data/convolutional_nn/model_w_reg_new.h5')\n",
    "    with open('./data/convolutional_nn/history_w_reg_new.json', 'w') as outfile:\n",
    "        json.dump(history.history, outfile)\n",
    "    history = history.history\n",
    "\n",
    "# evaluate the model performance on the test set\n",
    "score = model.evaluate(x_test, y_test, verbose=0)\n",
    "\n",
    "print('Test loss:', score[0])\n",
    "print('Test accuracy:', score[1])"
   ]
  },
  {
   "cell_type": "code",
   "execution_count": null,
   "metadata": {},
   "outputs": [],
   "source": [
    "# Plot training & validation accuracy values\n",
    "plt.plot(history['acc'])\n",
    "plt.plot(history['val_acc'])\n",
    "plt.title('Model accuracy')\n",
    "plt.ylabel('Accuracy')\n",
    "plt.xlabel('Epoch')\n",
    "plt.legend(['Train', 'Test'], loc='upper left')\n",
    "plt.show()"
   ]
  },
  {
   "cell_type": "code",
   "execution_count": null,
   "metadata": {},
   "outputs": [],
   "source": [
    "# Plot training & validation loss values\n",
    "plt.plot(history['loss'])\n",
    "plt.plot(history['val_loss'])\n",
    "plt.title('Model loss')\n",
    "plt.ylabel('Loss')\n",
    "plt.xlabel('Epoch')\n",
    "plt.legend(['Train', 'Test'], loc='upper left')\n",
    "plt.show()"
   ]
  },
  {
   "cell_type": "markdown",
   "metadata": {},
   "source": [
    "#### Questions\n",
    "\n",
    "1. Which changes do you see between the training history of the previous (unregularized) and the current (regularized) neural network?\n",
    "2. If you had to pick one neural network out of the two, which one would you choose and why?\n",
    "3. How important is regularization? Is it optional or a must for having generalizable models?"
   ]
  },
  {
   "cell_type": "markdown",
   "metadata": {},
   "source": [
    "## 5. Opening the black box with attentive response maps\n",
    "\n",
    "In the previous section, we built a model which classifies the handwritten digits of the MNIST dataset with satisfactory accuracy. But how can we assess which parts of a given image the network utilizes to arrive at its classification decision?\n",
    "\n",
    "To answer this question, in this tutorial we will compute **attentive response maps**.\n",
    "\n",
    "The main idea is to invert the data flow of a convolutional neural network, going from the last layers activations until image space. Then, a heatmap is constructed to shows which parts of the input image are most strongly activating when a classification decision is made - and thus are the most discriminative. \n",
    "\n",
    "Specifically, in this tutorial we will use **guided back-propagation**, as introduced in J. Springenberg, A. Dosovitskiy, T. Brox, and Riedmiller, *Striving for Simplicity: The All Convolutional Net*, https://arxiv.org/pdf/1412.6806.pdf (2015), and implemented in the Keras-vis package (https://raghakot.github.io/keras-vis/, https://github.com/raghakot/keras-vis)\n",
    "\n",
    "This is not the only technique to explain the classification decisions made by convolutional neural networks; some useful references are listed below:\n",
    "\n",
    "1. M.D. Zeiler, and R. Fergus, *Visualizing and Understanding Convolutional Networks* 818-833,  https://doi.org/10.1007/978-3-319-10590-1_53 (2014).\n",
    "\n",
    "2. K. Simonyan, A. Vedaldi, and A. Zisserman, *Deep Inside Convolutional Networks: Visualising Image Classification Models and Saliency Maps* (2014) (https://arxiv.org/pdf/1312.6034v2.pdf)\n",
    "\n",
    "3. S. Bach, et al. *On pixel-wise explanations for nonlinear classifier decisions by layer-wise relevance propagation*, PLoS ONE 10, e0130140 (2015).\n",
    "\n",
    "4. G. Montavon, S. Lapuschkin, A. Binder, W. Samek, and K.R. Müller, *Explaining nonlinear classification decisions with deep Taylor decomposition. Pattern Recognit.* 65, 211–222 (2017).\n",
    "\n",
    "5. R.R. Selvaraju, M. Cogswell, A. Das, R. Vedantam, D. Parikh, and D. Batra, *Visual Explanations from Deep Networks via Gradient-based Localization*, https://arxiv.org/pdf/1610.02391.pdf (2017)\n",
    "\n",
    "6. Kumar, D., Wong, A. & Taylor, G. W. Explaining the unexplained: a class-enhanced attentive response (CLEAR) approach to understanding deep neural networks. In 2017 IEEE Conference on Computer Vision and Pattern Recognition Workshops (CVPRW), 1686–1694 (IEEE, Honolulu, HI, 2017).\n",
    "\n",
    "For an application of convolutional neural network interpretation to a materials science problem:\n",
    "\n",
    "7. A. Ziletti, D. Kumar, M. Scheffler, and L. M. Ghiringhelli, *Insightful classification of crystal structures using deep learning*, Nature Communications 9, 2775 (2018)"
   ]
  },
  {
   "cell_type": "code",
   "execution_count": null,
   "metadata": {},
   "outputs": [],
   "source": [
    "class_idx = 0\n",
    "indices = np.where(y_test[:, class_idx] == 1.)[0]\n",
    "\n",
    "# pick some random input from here.\n",
    "idx = indices[0]\n",
    "\n",
    "# Lets sanity check the picked image.\n",
    "plt.rcParams['figure.figsize'] = (18, 6)\n",
    "\n",
    "plt.imshow(x_test[idx][..., 0])"
   ]
  },
  {
   "cell_type": "code",
   "execution_count": null,
   "metadata": {},
   "outputs": [],
   "source": [
    "from vis.visualization import visualize_saliency\n",
    "from vis.utils import utils\n",
    "from keras import activations\n",
    "\n",
    "# Utility to search for layer index by name.\n",
    "# Alternatively we can specify this as -1 since it corresponds to the last layer.\n",
    "layer_idx = utils.find_layer_idx(model, 'preds')\n",
    "\n",
    "# Swap softmax with linear\n",
    "model.layers[layer_idx].activation = activations.linear\n",
    "model = utils.apply_modifications(model)"
   ]
  },
  {
   "cell_type": "code",
   "execution_count": null,
   "metadata": {},
   "outputs": [],
   "source": [
    "for modifier in ['guided']:\n",
    "    grads = visualize_saliency(model, layer_idx, filter_indices=class_idx,\n",
    "                               seed_input=x_test[idx], backprop_modifier=modifier)\n",
    "    plt.figure()\n",
    "    plt.title(modifier)\n",
    "    plt.imshow(grads, cmap='jet')"
   ]
  },
  {
   "cell_type": "code",
   "execution_count": null,
   "metadata": {},
   "outputs": [],
   "source": [
    "from vis.visualization import visualize_cam\n",
    "\n",
    "for class_idx in np.arange(10):\n",
    "    indices = np.where(y_test[:, class_idx] == 1.)[0]\n",
    "    idx = indices[0]\n",
    "\n",
    "    f, ax = plt.subplots(1, 2)\n",
    "    ax[0].imshow(x_test[idx][..., 0])\n",
    "\n",
    "    for i, modifier in enumerate(['guided']):\n",
    "        grads = visualize_cam(model, layer_idx, filter_indices=class_idx,\n",
    "                              seed_input=x_test[idx], backprop_modifier=modifier)\n",
    "\n",
    "        ax[i+1].set_title(modifier)\n",
    "        ax[i+1].imshow(grads, cmap='jet')"
   ]
  },
  {
   "cell_type": "markdown",
   "metadata": {},
   "source": [
    "#### Questions\n",
    "\n",
    "1. Have a look at the attentive response maps. Do they look reasonable? How do you evaluate their quality?\n",
    "2. Try to train another neural network - even a bad one - and calculate its attentive response maps. Are they similar to the one of this network? \n",
    "3. Are there materials-science-oriented applications of this technique that can be useful in your research?"
   ]
  },
  {
   "cell_type": "markdown",
   "metadata": {},
   "source": [
    "## References:\n",
    "\n",
    "1. *Deep learning*, Goodfellow, Bengio, Courville, MIT Press 2016, Chap. 9 http://www.deeplearningbook.org/contents/convnets.html\n",
    "2. *A guide to convolution arithmetic for deep learning*, Article: https://arxiv.org/abs/1603.07285; Github: https://github.com/vdumoulin/conv_arithmetic  \n",
    "3. CS231n Convolutional Neural Networks for Visual Recognition (Stanford University): http://cs231n.github.io/convolutional-networks/\n",
    "4. Code from MNIST example: https://github.com/keras-team/keras/blob/master/examples/mnist_cnn.py\n",
    "5. Keras-vis MNIST example: https://github.com/raghakot/keras-vis/blob/master/examples/mnist/attention.ipynb"
   ]
  },
  {
   "cell_type": "code",
   "execution_count": null,
   "metadata": {},
   "outputs": [],
   "source": []
  }
 ],
 "metadata": {
  "kernelspec": {
   "display_name": "Python 3 (ipykernel)",
   "language": "python",
   "name": "python3"
  },
  "language_info": {
   "codemirror_mode": {
    "name": "ipython",
    "version": 3
   },
   "file_extension": ".py",
   "mimetype": "text/x-python",
   "name": "python",
   "nbconvert_exporter": "python",
   "pygments_lexer": "ipython3",
   "version": "3.9.13"
  },
  "toc": {
   "base_numbering": 1,
   "nav_menu": {},
   "number_sections": false,
   "sideBar": false,
   "skip_h1_title": false,
   "title_cell": "Table of Contents",
   "title_sidebar": "Contents",
   "toc_cell": false,
   "toc_position": {},
   "toc_section_display": false,
   "toc_window_display": false
  }
 },
 "nbformat": 4,
 "nbformat_minor": 4
}
