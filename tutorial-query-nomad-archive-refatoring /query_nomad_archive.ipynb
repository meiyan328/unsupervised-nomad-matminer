{
 "cells": [
  {
   "cell_type": "markdown",
   "metadata": {},
   "source": [
    "<div style=\"\n",
    "    background-color: #f7f7f7;\n",
    "    background-image: url('data:image/svg+xml;base64,PD94bWwgdmVyc2lvbj0iMS4wIiBlbmNvZGluZz0iVVRGLTgiIHN0YW5kYWxvbmU9Im5vIj8+CjxzdmcKICAgd2lkdGg9IjcyIgogICBoZWlnaHQ9IjczIgogICB2aWV3Qm94PSIwIDAgNzIgNzMiCiAgIGZpbGw9Im5vbmUiCiAgIHZlcnNpb249IjEuMSIKICAgaWQ9InN2ZzEzMTkiCiAgIHhtbG5zPSJodHRwOi8vd3d3LnczLm9yZy8yMDAwL3N2ZyIKICAgeG1sbnM6c3ZnPSJodHRwOi8vd3d3LnczLm9yZy8yMDAwL3N2ZyI+CiAgPGRlZnMKICAgICBpZD0iZGVmczEzMjMiIC8+CiAgPHBhdGgKICAgICBkPSJNIC0wLjQ5OTk4NSwxNDUgQyAzOS41MzMsMTQ1IDcyLDExMi41MzIgNzIsNzIuNSA3MiwzMi40Njc4IDM5LjUzMywwIC0wLjQ5OTk4NSwwIC00MC41MzI5LDAgLTczLDMyLjQ2NzggLTczLDcyLjUgYyAwLDQwLjAzMiAzMi40NjcxLDcyLjUgNzIuNTAwMDE1LDcyLjUgeiIKICAgICBmaWxsPSIjMDA4YTY3IgogICAgIGZpbGwtb3BhY2l0eT0iMC4yNSIKICAgICBpZD0icGF0aDEzMTciIC8+Cjwvc3ZnPgo='), url('data:image/svg+xml;base64,PD94bWwgdmVyc2lvbj0iMS4wIiBlbmNvZGluZz0iVVRGLTgiIHN0YW5kYWxvbmU9Im5vIj8+CjxzdmcKICAgd2lkdGg9IjIxNyIKICAgaGVpZ2h0PSIyMjMiCiAgIHZpZXdCb3g9IjAgMCAyMTcgMjIzIgogICBmaWxsPSJub25lIgogICB2ZXJzaW9uPSIxLjEiCiAgIGlkPSJzdmcxMTA3IgogICB4bWxucz0iaHR0cDovL3d3dy53My5vcmcvMjAwMC9zdmciCiAgIHhtbG5zOnN2Zz0iaHR0cDovL3d3dy53My5vcmcvMjAwMC9zdmciPgogIDxkZWZzCiAgICAgaWQ9ImRlZnMxMTExIiAvPgogIDxwYXRoCiAgICAgZD0ibSAyMi4wNDIsNDUuMDEwOSBjIDIxLjM2MjUsMjEuMjc1NyA1NS45NzYsMjEuMjc1NyA3Ny41MTkyLDAgQyAxMTkuNTU4LDI1LjA4IDE1MS41MDIsMjMuNzM1MiAxNzIuODY0LDQxLjM3OCBjIDEuMzQ1LDEuNTI1NCAyLjY5LDMuMjUxNiA0LjIzNiw0Ljc5NzEgMjEuMzYzLDIxLjI3NTYgMjEuMzYzLDU1Ljc5ODkgMCw3Ny4yNTQ5IC0yMS4zNjIsMjEuMjc2IC0yMS4zNjIsNTUuNzk4IDAsNzcuMjU1IDIxLjM2MywyMS40NTYgNTUuOTc2LDIxLjI3NSA3Ny41MiwwIDIxLjU0MywtMjEuMjc2IDIxLjM2MiwtNTUuNzk5IDAsLTc3LjI1NSAtMjEuMzYzLC0yMS4yNzYgLTIxLjM2MywtNTUuNzk4NiAwLC03Ny4yNTQ5IDEyLjY4OSwtMTIuNjQ1IDE3Ljg4OSwtMzAuMTA3MSAxNS4zOTksLTQ2LjU4NTc2IC0xLjU0NiwtMTEuNTAwOTQgLTYuNzI2LC0yMi44MjExNCAtMTUuNTgsLTMxLjYzMjU0IC0yMS4zNjMsLTIxLjI3NTYgLTU1Ljk3NiwtMjEuMjc1NiAtNzcuNTE5LDAgLTIxLjM2MywyMS4yNzU3IC01NS45NzYsMjEuMjc1NyAtNzcuNTE5NCwwIC0yMS4zNjI1LC0yMS4yNzU2IC01NS45NzYxLC0yMS4yNzU2IC03Ny41MTkyLDAgQyAwLjY3OTU2NSwtMTAuNzg3NiAwLjY3OTU5NiwyMy43MzUyIDIyLjA0Miw0NS4wMTA5IFoiCiAgICAgZmlsbD0iIzJhNGNkZiIKICAgICBzdHJva2U9IiMyYTRjZGYiCiAgICAgc3Ryb2tlLXdpZHRoPSIxMiIKICAgICBzdHJva2UtbWl0ZXJsaW1pdD0iMTAiCiAgICAgaWQ9InBhdGgxMTA1IiAvPgogIDxwYXRoCiAgICAgZD0ibSA1MS45OTUyMTIsMjIyLjczMDEzIGMgMjguMzU5MSwwIDUxLjM1ODM5OCwtMjIuOTk5OSA1MS4zNTgzOTgsLTUxLjM1ODQgMCwtMjguMzU4NiAtMjIuOTk5Mjk4LC01MS4zNTg1OSAtNTEuMzU4Mzk4LC01MS4zNTg1OSAtMjguMzU5MSwwIC01MS4zNTg2MDIsMjIuOTk5OTkgLTUxLjM1ODYwMiw1MS4zNTg1OSAwLDI4LjM1ODUgMjIuOTk5NTAyLDUxLjM1ODQgNTEuMzU4NjAyLDUxLjM1ODQgeiIKICAgICBmaWxsPSIjMTkyZTg2IgogICAgIGZpbGwtb3BhY2l0eT0iMC4zNSIKICAgICBpZD0icGF0aDE5MzciIC8+Cjwvc3ZnPgo=') ;\n",
    "    background-position: left bottom, right top;\n",
    "    background-repeat: no-repeat,  no-repeat;\n",
    "    background-size: auto 60px, auto 160px;\n",
    "    border-radius: 5px;\n",
    "    box-shadow: 0px 3px 1px -2px rgba(0, 0, 0, 0.2), 0px 2px 2px 0px rgba(0, 0, 0, 0.14), 0px 1px 5px 0px rgba(0,0,0,.12);\">\n",
    "\n",
    "<h1 style=\"\n",
    "    color: #2a4cdf;\n",
    "    font-style: normal;\n",
    "    font-size: 2.25rem;\n",
    "    line-height: 1.4em;\n",
    "    font-weight: 600;\n",
    "    padding: 30px 200px 0px 30px;\">\n",
    "    Querying the NOMAD Archive and performing artificial-intelligence modeling</h1>\n",
    "\n",
    "<p style=\"font-size: 1.25em; font-style: italic; padding: 5px 200px 30px 30px;\">\n",
    "    Luigi Sbailò, Matthias Scheffler, Luca M. Ghiringhelli</p>\n",
    "</div>\n",
    "\n",
    "<div style=\"margin: 10px;\">\n",
    "    <img style=\"float: left; margin: 5px 20px 0px 0px;\" src=\"assets/logos/hu-berlin.svg\" width=\"110\">\n",
    "    <img style=\"float: left; margin: 0px 20px 0px 0px;\" src=\"assets/logos/nomad.svg\" width=\"110\">\n",
    "    <img style=\"float: left; margin: 15px 20px 0px 0px;\" src=\"assets/logos/nomad-infrastructure.svg\" width=\"120\">\n",
    "    <img style=\"float: left; margin: 5px 20px 0px 10px;\" src=\"assets/logos/mpcdf.svg\" width=\"270\">\n",
    "</div>\n",
    "<p style=\"text-align: right; padding: 0px 10px 10px 0px;\">[Last updated: September 19, 2023]</p>"
   ]
  },
  {
   "cell_type": "markdown",
   "metadata": {},
   "source": [
    "In this tutorial, we show how to query the [NOMAD Archive](https://nomad-lab.eu/prod/v1/gui/search/entries) and perform data analysis on the retrieved data.\n"
   ]
  },
  {
   "cell_type": "markdown",
   "metadata": {},
   "source": [
    "## Preliminary operations\n",
    "\n",
    "We load the following packages that are all available in the virtual environment containing the Jupyter notebooks in the NOMAD AI toolkit. Among the loaded packages, we highlight `sklearn`, i.e., scikit-learn, one of the most popular machine-learning packages, and `pandas`, a popular tool for data handling and analysis.\n"
   ]
  },
  {
   "cell_type": "code",
   "execution_count": null,
   "metadata": {
    "ExecuteTime": {
     "end_time": "2022-04-06T10:01:54.997594Z",
     "start_time": "2022-04-06T10:01:54.291914Z"
    },
    "scrolled": true
   },
   "outputs": [],
   "source": [
    "import json\n",
    "import shutil\n",
    "import itertools\n",
    "import pathlib\n",
    "\n",
    "import numpy as np\n",
    "import pandas as pd\n",
    "\n",
    "from sklearn import preprocessing\n",
    "\n",
    "import matplotlib.pyplot as plt\n",
    "import plotly.express as px\n",
    "\n",
    "from ase.data import chemical_symbols\n",
    "from atomic_features_package.atomic_properties import periodictable\n",
    "from atomic_features_package.atomic_properties import atomic_properties_dft as ap\n",
    "from atomic_features_package.atomic_properties import atomic_properties_pymat as pymat\n",
    "\n",
    "from query_nomad_archive.visualizer import Visualizer"
   ]
  },
  {
   "cell_type": "code",
   "execution_count": null,
   "metadata": {},
   "outputs": [],
   "source": [
    "import nest_asyncio\n",
    "\n",
    "from nomad import config\n",
    "from nomad.datamodel import EntryArchive\n",
    "from nomad.client.archive import ArchiveQuery\n",
    "\n",
    "nest_asyncio.apply()\n",
    "config.client.url = \"http://nomad-lab.eu/prod/v1/staging/api\""
   ]
  },
  {
   "cell_type": "markdown",
   "metadata": {},
   "source": [
    "You can use already download data from local cache. Downloading the data from the archive takes about 10 mins."
   ]
  },
  {
   "cell_type": "code",
   "execution_count": null,
   "metadata": {},
   "outputs": [],
   "source": [
    "use_cache = True"
   ]
  },
  {
   "cell_type": "markdown",
   "metadata": {},
   "source": [
    "We maintain a `nomad` package that can be imported in all notebooks of the AI Toolkit.\n"
   ]
  },
  {
   "cell_type": "markdown",
   "metadata": {},
   "source": [
    "The `nomad` package allows to retrieve data from the NOMAD Archive by means of a script, as shown below. In this script, we insert metadata characterizing the materials that we aim to retrieve. In this case, we select ternary materials containing oxygen. We also request that simulations were carried out using the VASP code using GGA exchange-correlation (xc) functionals. Values are retrieved from the simulation run that found geometrically convergence wihin a desird threshold value of.\n"
   ]
  },
  {
   "cell_type": "markdown",
   "metadata": {},
   "source": [
    "The modules `atomic_properties_dft` and `atomic_properties_pymat` make available atomic properites of the elements of the periodic table, to be used as features in data analytics. The sources of these atomic proporties are DFT calculations performed by the NOMAD team and <a href=\"https://pymatgen.org/\" target=\"_blank\">pymatgen</a>, respectively.\n"
   ]
  },
  {
   "cell_type": "markdown",
   "metadata": {},
   "source": [
    "We have developed a visualization tool that allows us to visualize atomic properites of all elements accross periodic table as a heatmap. Currently, this tool is able to visualize atomic properties acessible from `atomic_properties_dft` module. Below is an example for the data calculated via the HSE06 functional and spinless settings.\n",
    "\n",
    "This module can be used as follows. From the dropdown menu, one can select which property one is interested to check and the table is updated automatically to show the corresponding heatmap.\n"
   ]
  },
  {
   "cell_type": "code",
   "execution_count": null,
   "metadata": {
    "ExecuteTime": {
     "end_time": "2022-04-06T09:55:42.698438Z",
     "start_time": "2022-04-06T09:55:42.254235Z"
    },
    "scrolled": false
   },
   "outputs": [],
   "source": [
    "periodictable.heatmap(Spin=\"False\", method=\"pbe\")"
   ]
  },
  {
   "cell_type": "markdown",
   "metadata": {},
   "source": [
    "## Querying the NOMAD Archive\n"
   ]
  },
  {
   "cell_type": "code",
   "execution_count": null,
   "metadata": {
    "ExecuteTime": {
     "end_time": "2022-04-03T17:13:27.566085Z",
     "start_time": "2022-04-03T17:13:25.903062Z"
    }
   },
   "outputs": [],
   "source": [
    "max_entries = 8862\n",
    "\n",
    "query = {\n",
    "    \"results.method.simulation.program_name\": \"VASP\",\n",
    "    \"results.material.elements\": [\"O\"],\n",
    "    \"results.material.symmetry.crystal_system:any\": [\"cubic\"],\n",
    "    \"results.material.n_elements\": {\"lte\": 3, \"gte\": 3},\n",
    "    \"results.method.simulation.dft.xc_functional_type:any\": [\"GGA\"],\n",
    "    \"results.properties.geometry_optimization\": {\n",
    "        \"final_energy_difference\": {\"lte\": 2e-22, \"gte\": 1e-30}\n",
    "    },\n",
    "}\n",
    "required = {\n",
    "    \"results\": {\"material\": {\"symmetry\": {\"space_group_number\": \"*\"}}},\n",
    "    \"workflow\": {\n",
    "        \"geometry_optimization\": {\n",
    "            \"final_energy_difference\": \"*\",\n",
    "        },\n",
    "        \"calculation_result_ref\": {\n",
    "            \"system_ref\": {\n",
    "                \"chemical_composition_reduced\": \"*\",\n",
    "                \"atoms\": {\n",
    "                    \"species\": \"*\",\n",
    "                    \"lattice_vectors\": \"*\",\n",
    "                    \"positions\": \"*\",\n",
    "                },\n",
    "            },\n",
    "        },\n",
    "    },\n",
    "}\n",
    "\n",
    "query = ArchiveQuery(\n",
    "    query=query, required=required, page_size=100, results_max=max_entries\n",
    ")"
   ]
  },
  {
   "cell_type": "markdown",
   "metadata": {},
   "source": [
    "We have defined the variable `query`, which allows to perform our query.\n",
    "All quantities defined in the `required` field are fetched during the query. For example, we can see quantities as `chemical_composition_reduced` which gives the composition of the material or `atoms.positions` that contains the positon of all atoms after geometric convergence.\n",
    "We notice that the variable `query` contains a number of other variables: the `max_entries` value sets the maximum number of entries that can be retrieved; the `per_page` value indicates the number of entries fetched at each API call.\n"
   ]
  },
  {
   "cell_type": "markdown",
   "metadata": {},
   "source": [
    "In this tutorial, we use machine learning tools to investigate properties of materials. In particular, we aim to predict the atomic density of the materials as a function of some primary features such as the atomic number."
   ]
  },
  {
   "cell_type": "markdown",
   "metadata": {},
   "source": [
    "To retrieve data and place it within a framework, we use a 'for' loop that iteratively fetches all entries up to the maximum value, which is given by 'max_entries'. In addition, we also make sure the entry contains the simulation cell value which we are interested in, and that all elements in the material have an admissible atomic number.\n"
   ]
  },
  {
   "cell_type": "markdown",
   "metadata": {},
   "source": [
    "In the next cell, we download data from the NOMAD Archive. **As we query a large number of elements, this operation can be time consuming. Hence, we have cached the results of the following query, and data can be loaded with a command given in the subsequent cell.**\n"
   ]
  },
  {
   "cell_type": "code",
   "execution_count": null,
   "metadata": {
    "scrolled": false
   },
   "outputs": [],
   "source": [
    "if not use_cache:\n",
    "    query.fetch()\n",
    "    results = []\n",
    "    while True:\n",
    "        result = query.download(100)\n",
    "        if len(result) == 0:\n",
    "            break\n",
    "        results.extend(result)\n",
    "\n",
    "    # (optional) Save the results to a file\n",
    "    # filename = 'data/query_nomad_archive/results.json'\n",
    "    # with open(filename, 'w') as f:\n",
    "    #     json.dump({'data': [entry.m_to_dict() for entry in results]}, f)\n",
    "\n",
    "else:\n",
    "    with open(\"data/query_nomad_archive/results.json\") as f:\n",
    "        data = json.load(f)\n",
    "\n",
    "    results = [EntryArchive.m_from_dict(entry) for entry in data[\"data\"]]\n",
    "\n",
    "len(results)"
   ]
  },
  {
   "cell_type": "markdown",
   "metadata": {},
   "source": [
    "Filtering out some of the non relevant calculations:"
   ]
  },
  {
   "cell_type": "code",
   "execution_count": null,
   "metadata": {},
   "outputs": [],
   "source": [
    "def valid_calculation(entry):\n",
    "\n",
    "    system_ref = entry.workflow[0].calculation_result_ref.system_ref\n",
    "    elements = system_ref.atoms.species\n",
    "\n",
    "    if min(elements) < 1 or max(elements) > 118:\n",
    "        return False\n",
    "\n",
    "    return True\n",
    "\n",
    "results = [entry for entry in results if valid_calculation(entry)]\n",
    "len(results)"
   ]
  },
  {
   "cell_type": "markdown",
   "metadata": {},
   "source": [
    "We instantiate the `atomic_properties_dft` (imported as `ap` here) classes with the atomic symbol by first specifying DFT spin setting employed and fucntional for evaluation of atomic properties.\n",
    "Functional for which this properties accessible are 'hse06', 'pbe','pbe0','pbesol','pw-lda','revpbe'.\n",
    "The spin setting could be either 'True' or 'False'.\n"
   ]
  },
  {
   "cell_type": "code",
   "execution_count": null,
   "metadata": {},
   "outputs": [],
   "source": [
    "ap.method(method=\"pbe\", Spin=\"False\")"
   ]
  },
  {
   "cell_type": "code",
   "execution_count": null,
   "metadata": {
    "ExecuteTime": {
     "end_time": "2022-04-03T17:40:55.694580Z",
     "start_time": "2022-04-03T17:40:32.480632Z"
    },
    "scrolled": false
   },
   "outputs": [],
   "source": [
    "def get_features(ind, entry):\n",
    "    features = dict()\n",
    "\n",
    "    system_ref = entry.workflow[0].calculation_result_ref.system_ref\n",
    "    elements = system_ref.atoms.species\n",
    "\n",
    "    # Dimensions of the cell are rescaled to angstroms.\n",
    "    lattice_vectors = system_ref.atoms.lattice_vectors.m_as(\"angstrom\")\n",
    "\n",
    "    features[\"Formula\"] = system_ref.chemical_composition_reduced\n",
    "    features[\"Convergence_energy_diff\"] = entry.workflow[0].geometry_optimization.final_energy_difference.m\n",
    "    features[\"Space_group_number\"] = int(entry.results.material.symmetry.space_group_number)\n",
    "\n",
    "    # The total number in the array 'elements' gives the total number of atoms.\n",
    "    n_atoms = len(elements)\n",
    "\n",
    "    # The volume of the cell is obtained as scalar triple product of the three base vectors.\n",
    "    # The triple scalar product is obtained as determinant of the matrix composed with the three vectors.\n",
    "    cell_volume = np.linalg.det(lattice_vectors)\n",
    "\n",
    "    # The atomic density is given by the number of atoms in a unit cell.\n",
    "    features[\"Atomic_density\"] = n_atoms / cell_volume\n",
    "\n",
    "    # The ternary materials are composed by Oxygen and two other elements labeled as A,B.\n",
    "    # Variables 'Z_A','Z_B' contain the atomic number of the elements A,B.\n",
    "    Z_A, Z_B = np.unique(elements[elements != 8])\n",
    "\n",
    "    if Z_A > Z_B:\n",
    "        Z_A, Z_B = Z_B, Z_A\n",
    "\n",
    "    features[\"Atomic_number_A\"] = Z_A\n",
    "    features[\"Atomic_number_B\"] = Z_B\n",
    "\n",
    "    # The fraction of atoms of a specific element within the material, that is also given by the stochiometric ratio.\n",
    "    features[\"Fraction_O\"] = np.count_nonzero(elements == 8) / n_atoms\n",
    "    features[\"Fraction_A\"] = np.count_nonzero(elements == Z_A) / n_atoms\n",
    "    features[\"Fraction_B\"] = np.count_nonzero(elements == Z_B) / n_atoms\n",
    "\n",
    "    # We instantiate the atomic_properties_dft(imported as ap here) classes with the atomic symbol.\n",
    "    # Similarly we instantiate the atomic_properties_pymat(imported as pymat here) classes with the atomic symbol\n",
    "    # These classes allow to retrieve atoms properties, in this example we fetch the element ionization energy,atomic radius\n",
    "    # from atomic_properties_dft module and element name,element weight  from atomic_properties_pymat module\n",
    "\n",
    "    label_A = chemical_symbols[Z_A]\n",
    "    label_B = chemical_symbols[Z_B]\n",
    "\n",
    "    pymat_A = pymat.symbol(label_A)\n",
    "    pymat_B = pymat.symbol(label_B)\n",
    "\n",
    "    features[\"Element_A_name\"] = pymat_A.atomic_element_name\n",
    "    features[\"Element_B_name\"] = pymat_B.atomic_element_name\n",
    "\n",
    "    features[\"Weight_A\"] = pymat_A.atomic_mass\n",
    "    features[\"Weight_B\"] = pymat_B.atomic_mass\n",
    "\n",
    "    A = ap.symbol(label_A)\n",
    "    B = ap.symbol(label_B)\n",
    "\n",
    "    # distance values are in angstroms so we convert these to pm in this eg\n",
    "    features[\"Atomic_radius_A\"] = A.atomic_r_val[0].m_as(\"pm\")\n",
    "    features[\"Atomic_radius_B\"] = B.atomic_r_val[0].m_as(\"pm\")\n",
    "\n",
    "    # energy value obtained is in joules so we convert to eV\n",
    "    features[\"Ionenergy_A\"] = A.atomic_ip.m_as(\"eV\")\n",
    "    features[\"Ionenergy_B\"] = B.atomic_ip.m_as(\"eV\")\n",
    "\n",
    "    # energy value obtained is in joules so we convert to eV\n",
    "    features[\"El_affinity_A\"] = A.atomic_ea.m_as(\"eV\")\n",
    "    features[\"El_affinity_B\"] = B.atomic_ea.m_as(\"eV\")\n",
    "\n",
    "    # energy value obtained is in joules so we convert to eV\n",
    "    features[\"Homo_A\"] = A.atomic_hfomo.m_as(\"eV\")\n",
    "    features[\"Homo_B\"] = B.atomic_hfomo.m_as(\"eV\")\n",
    "    features[\"Lumo_A\"] = A.atomic_hfomo.m_as(\"eV\")\n",
    "    features[\"Lumo_B\"] = B.atomic_hfomo.m_as(\"eV\")\n",
    "\n",
    "    return features\n",
    "\n",
    "\n",
    "# At each iteration, we add to the dataframe one row that contains the A,B elements in the material and a number of other material properties.\n",
    "features = [get_features(ind, entry) for ind, entry in enumerate(results)]\n",
    "\n",
    "len(features)"
   ]
  },
  {
   "cell_type": "markdown",
   "metadata": {},
   "source": [
    "We define a 'Pandas' dataframe that contains all fetched data.\n"
   ]
  },
  {
   "cell_type": "code",
   "execution_count": null,
   "metadata": {},
   "outputs": [],
   "source": [
    "df = pd.DataFrame.from_records(features)"
   ]
  },
  {
   "cell_type": "markdown",
   "metadata": {},
   "source": [
    "Pandas dataframes include the 'describe' method which gives an overview about the composition of the dataset.\n"
   ]
  },
  {
   "cell_type": "code",
   "execution_count": null,
   "metadata": {
    "ExecuteTime": {
     "end_time": "2022-04-06T10:02:04.302702Z",
     "start_time": "2022-04-06T10:02:04.255725Z"
    },
    "scrolled": true
   },
   "outputs": [],
   "source": [
    "df.describe()"
   ]
  },
  {
   "cell_type": "markdown",
   "metadata": {},
   "source": [
    "We are particularly interested in materials properties and how they can be inferred from the solely atomic composition of a specific material. In our query, we have retrieved two materials properties, namely the _'Atomic_density'_ and the _'Space_group_number'_. Before performing any machine learning analysis, it is interesting to visualize the distribution of these values using a histogram. Pandas allows for a straighforward visualization of histograms constructed with columns dataframe values.\n"
   ]
  },
  {
   "cell_type": "code",
   "execution_count": null,
   "metadata": {
    "ExecuteTime": {
     "end_time": "2022-04-06T10:02:04.714300Z",
     "start_time": "2022-04-06T10:02:04.518127Z"
    },
    "scrolled": false
   },
   "outputs": [],
   "source": [
    "df.hist(column=\"Space_group_number\", bins=range(200, 231), align=\"left\", figsize=(10, 4))\n",
    "plt.xticks(range(200, 231), rotation=70)\n",
    "plt.xlim([200, 230])\n",
    "plt.show()"
   ]
  },
  {
   "cell_type": "markdown",
   "metadata": {},
   "source": [
    "We notice above that retrieved materials can be mainly classified into two distinct space group numbers, i.e. the sapce group number 221 and 227. It would be interesting to see whether such distinction involves that materials belonging in the same space group share similar atomistic properties, while the ones belonging in different space groups are distinct also on an atomistic level. This is the scope of clustering, and it will be the object of an in-depth analysis below.\n",
    "\n",
    "Now, we keep inspecting the dataframe values and plot a histogram containing the values of the atomic density.\n"
   ]
  },
  {
   "cell_type": "code",
   "execution_count": null,
   "metadata": {
    "ExecuteTime": {
     "end_time": "2022-04-06T10:02:04.944609Z",
     "start_time": "2022-04-06T10:02:04.798597Z"
    },
    "scrolled": false
   },
   "outputs": [],
   "source": [
    "df.hist(column=\"Atomic_density\", bins=50, figsize=(10, 4))\n",
    "plt.show()"
   ]
  },
  {
   "cell_type": "markdown",
   "metadata": {},
   "source": [
    "The histogram above shows that the atomic density is mainly distributed around a value of 0.07 Angstroms$^{-1}$. Such distribution might seem the result of a random extraction, but we aim to find an AI model that is able to make high-resolution predictions for the atomic density based only on the atomic composition of the material.\n"
   ]
  },
  {
   "cell_type": "markdown",
   "metadata": {},
   "source": [
    "In order to build an AI model that makes reliable predictions, we should make sure that each entry has a different representation. In this case, as we are interested in predicting material properties from the atomic composition, the chemical composition of the material is an ideal representation for the dataframe entries. However, we might have different entries with the same chemical composition, because e.g. simulations were performed for the same material with different settings that were not included among the filters of our query. Each of these simulations might have produced a slightly different value of the resulting atomic density of the material. As data is taken from heterogeneous simulations which were carried out in different laboratories, we do not aim to evaluate all possible parameters for each simulation. Hence, we average the atomic density value over all materials with the same chemical composition.\n",
    "\n",
    "After averaging (or _grouping_) data is placed in a different dataframe '_df_grouped_', where each entry represents a different compound.\n"
   ]
  },
  {
   "cell_type": "code",
   "execution_count": null,
   "metadata": {
    "ExecuteTime": {
     "end_time": "2022-04-06T10:02:05.336233Z",
     "start_time": "2022-04-06T10:02:05.319736Z"
    }
   },
   "outputs": [],
   "source": [
    "df_grouped = df.groupby(\n",
    "    [\"Formula\", \"Element_A_name\", \"Element_B_name\", \"Space_group_number\"]\n",
    ").mean()\n",
    "\n",
    "df_grouped = df_grouped.reset_index(\n",
    "    level=[\"Element_A_name\", \"Element_B_name\", \"Space_group_number\"]\n",
    ")\n",
    "\n",
    "df_grouped[\"Replicas\"] = (\n",
    "    df.groupby([\"Formula\", \"Element_A_name\", \"Element_B_name\", \"Space_group_number\"])\n",
    "    .count()[\"Atomic_density\"]\n",
    "    .values\n",
    ")"
   ]
  },
  {
   "cell_type": "markdown",
   "metadata": {},
   "source": [
    "With data placed in a dataframe, we can carry out our machine learning analysis.\n"
   ]
  },
  {
   "cell_type": "markdown",
   "metadata": {},
   "source": [
    "# Example of unsupervised machine learning: Clustering and dimension reduction\n",
    "\n",
    "---\n"
   ]
  },
  {
   "cell_type": "markdown",
   "metadata": {},
   "source": [
    "Firstly, we perform an explorative analysis to understand how data is composed and organized. Hence, we use\n",
    "unsupervised learning to extract from the dataset clusters of materials with similar properties.\n",
    "\n",
    "We define the list of features that are used for clustering including only the stochiometric ratio and the atomic number. Our aim is to use unsupervised learning for understanding whether the defined descriptors are sufficient for structuring the dataset.\n"
   ]
  },
  {
   "cell_type": "code",
   "execution_count": null,
   "metadata": {
    "ExecuteTime": {
     "end_time": "2022-04-06T10:02:06.087063Z",
     "start_time": "2022-04-06T10:02:06.078096Z"
    },
    "scrolled": true
   },
   "outputs": [],
   "source": [
    "clustering_features = []\n",
    "clustering_features.append(\"Fraction_A\")\n",
    "clustering_features.append(\"Fraction_B\")\n",
    "clustering_features.append(\"Fraction_O\")\n",
    "clustering_features.append(\"Atomic_number_A\")\n",
    "clustering_features.append(\"Atomic_number_B\")\n",
    "clustering_features.append(\"El_affinity_A\")\n",
    "clustering_features.append(\"El_affinity_B\")\n",
    "# clustering_features.append('Ionenergy_A')\n",
    "# clustering_features.append('Ionenergy_B')\n",
    "# clustering_features.append('Homo_A')\n",
    "# clustering_features.append('Homo_B')\n",
    "# clustering_features.append('Lumo_A')\n",
    "# clustering_features.append('Lumo_B')\n",
    "# clustering_features.append('Weight_A')\n",
    "# clustering_features.append('Weight_B')\n",
    "# clustering_features.append('Atomic_radius_A')\n",
    "# clustering_features.append('Atomic_radius_B')\n",
    "\n",
    "df_clustering = preprocessing.scale(df_grouped[clustering_features])"
   ]
  },
  {
   "cell_type": "markdown",
   "metadata": {},
   "source": [
    "As clustering algorithm we use HDBSCAN, that is described in:\n",
    "\n",
    "<div style=\"padding: 1ex; margin-top: 1ex; margin-bottom: 1ex; border-style: dotted; border-width: 1pt; border-color: blue; border-radius: 3px;\">\n",
    "R.J.G.B. Campello, D. Moulavi, J. Sander: <span style=\"font-style: italic;\">Density-Based Clustering Based on Hierarchical Density Estimates</span>,  Springer Berlin Heidelberg, (2013).</div>\n",
    "The only input parameter that this algorithm requires is the minimum size of each cluster.\n",
    "\n",
    "To achieve a more accurate cluster definition, HDBSCAN is able to detect all those points that are hardly classified into a specific cluster, which are labeled as 'outliers'.\n",
    "\n",
    "The implementation of the algorithm that we use is taken from https://pypi.org/project/hdbscan/.\n"
   ]
  },
  {
   "cell_type": "code",
   "execution_count": null,
   "metadata": {
    "ExecuteTime": {
     "end_time": "2022-04-06T10:02:06.654448Z",
     "start_time": "2022-04-06T10:02:06.638861Z"
    },
    "scrolled": true
   },
   "outputs": [],
   "source": [
    "import hdbscan"
   ]
  },
  {
   "cell_type": "code",
   "execution_count": null,
   "metadata": {
    "ExecuteTime": {
     "end_time": "2022-04-06T10:02:07.032412Z",
     "start_time": "2022-04-06T10:02:06.856046Z"
    }
   },
   "outputs": [],
   "source": [
    "clusterer = hdbscan.HDBSCAN(min_cluster_size=60, min_samples=50)\n",
    "clusterer.fit(df_clustering)\n",
    "\n",
    "print(f\"The algorithm finds {str(clusterer.labels_.max() + 1)} clusters.\")"
   ]
  },
  {
   "cell_type": "code",
   "execution_count": null,
   "metadata": {
    "ExecuteTime": {
     "end_time": "2022-04-06T10:02:07.432660Z",
     "start_time": "2022-04-06T10:02:07.429574Z"
    }
   },
   "outputs": [],
   "source": [
    "cluster_labels = clusterer.labels_\n",
    "df_grouped[\"Cluster_label\"] = cluster_labels"
   ]
  },
  {
   "cell_type": "markdown",
   "metadata": {},
   "source": [
    "To visualize our multidimensional data, we need to project it onto a two-dimensional manifold.\n",
    "Hence, we use the TSNE embedding algorithm.\n"
   ]
  },
  {
   "cell_type": "code",
   "execution_count": null,
   "metadata": {
    "ExecuteTime": {
     "end_time": "2022-04-06T10:02:17.136404Z",
     "start_time": "2022-04-06T10:02:08.030627Z"
    },
    "scrolled": true
   },
   "outputs": [],
   "source": [
    "from sklearn.manifold import TSNE\n",
    "\n",
    "embedding = TSNE(n_components=2).fit_transform(df_clustering)\n",
    "\n",
    "df_grouped[\"x_emb\"] = embedding[:, 0]\n",
    "df_grouped[\"y_emb\"] = embedding[:, 1]"
   ]
  },
  {
   "cell_type": "markdown",
   "metadata": {},
   "source": [
    "We maintain the Visualizer, a dedicated tool for an interactive visualization of the data retrieved from the Archive.\n",
    "\n",
    "The Visualizer shows compounds belonging in different clusters with different colors.\n",
    "Outliers by default are not shown on the map, but outliers visualization can be activated by clicking the 'Outliers' label on the right of the map.\n",
    "The color of the markers can also represent a specific target property of the material that can be selected from the 'Marker colors' dropdown menu.\n",
    "Target properties which can be displayed with different colors are inserted as a list of 'color_features'.\n",
    "After selecting a specific property, a new menu will appear to choose the color scale to be used for visualizing the different values of that target property.\n",
    "\n",
    "To prevent data overloading, only a fraction of the whole dataset is initially visualized.\n",
    "This parameter can be adjusted modifing the fraction value on top of the map, up to select all entries in the dataset.\n",
    "\n",
    "By hovering over the map, the Visualizer shows which compound corresponds to each point, and its number of 'Replicas'.  \n",
    "Replicas represents the number of entries from the original dataset (before grouping) which have the same chemical composition.\n",
    "It is also possible to select an additional number of features in the 'hover_features' list which are displayed while hovering.\n",
    "\n",
    "Clicking on any of the points in the map automatically shows the 3D chemical structure of the material in one of the windows below.\n",
    "Note that at each time the 'Display' button is clicked, a different structure with the same chemical composition is visualized.\n",
    "A new structure is shown up to the 'Replicas' number.\n",
    "This allows to inspect all possible structures in the dataset.\n",
    "\n",
    "Furthermore, the chemical formula of a specific compound can be manually written in the 'Compound' textbox, and clicking the 'Display' button will both show the 3D chemical structure and mark the exact position of the compound on the map with a cross.\n",
    "The Compound textbox includes autocompletion, which allows to inspect all materials in the dataset inserting partial formulae.\n",
    "\n",
    "Lastly, the Visualizer offers a number of utils for producing high-quality plots of the map, which are displayed after clicking the button just below the map.\n"
   ]
  },
  {
   "cell_type": "code",
   "execution_count": null,
   "metadata": {},
   "outputs": [],
   "source": [
    "from query_nomad_archive.visualizer import Visualizer"
   ]
  },
  {
   "cell_type": "code",
   "execution_count": null,
   "metadata": {
    "ExecuteTime": {
     "end_time": "2022-04-06T10:02:17.670762Z",
     "start_time": "2022-04-06T10:02:17.137932Z"
    },
    "scrolled": false
   },
   "outputs": [],
   "source": [
    "hover_features = []\n",
    "hover_features.append(\"Atomic_number_A\")\n",
    "hover_features.append(\"Atomic_number_B\")\n",
    "hover_features.append(\"Space_group_number\")\n",
    "hover_features.append(\"Atomic_density\")\n",
    "hover_features.append(\"Replicas\")\n",
    "hover_features.append(\"Cluster_label\")\n",
    "\n",
    "color_features = []\n",
    "color_features.append(\"Atomic_density\")\n",
    "color_features.append(\"Space_group_number\")\n",
    "\n",
    "Visualizer(df, df_grouped, hover_features, color_features).view()"
   ]
  },
  {
   "cell_type": "markdown",
   "metadata": {},
   "source": [
    "Using the visualizer we can analyse the composition of the different clusters extracted.\n",
    "We have selected the atomic density and the space group number as color features.\n",
    "This allows to inspect how these values vary within clusters.\n",
    "The values of these features show ordered structures within clusters, that is particularly interesting because these features were not used by the clustering algorithm.\n",
    "This suggests that the atomic features used for clustering are sufficient to describe certain properties of the whole material such as the most stable structure or the atomic density.\n",
    "Therefore, we might imagine that there is a functional form capable to infer the defined materials properties from our atomic features, and we can train a supervised machine learning model to find such relationship.\n",
    "\n",
    "The space group number of the elements in each cluster is shown below firstly as a list of values, then using a pie chart.\n",
    "We can clearly notice that in each cluster there is one space group number that is predominant respect to all the others.\n",
    "This means that we can label the different clusters with a characteristic space group number.\n"
   ]
  },
  {
   "cell_type": "code",
   "execution_count": null,
   "metadata": {
    "ExecuteTime": {
     "end_time": "2022-04-06T10:02:34.326111Z",
     "start_time": "2022-04-06T10:02:34.048353Z"
    }
   },
   "outputs": [],
   "source": [
    "df_count_groups = (\n",
    "    df_grouped.loc[df_grouped[\"Cluster_label\"] != -1]\n",
    "    .groupby([\"Cluster_label\", \"Space_group_number\"])\n",
    "    .describe()[\"Atomic_density\"][[\"count\"]]\n",
    ")\n",
    "\n",
    "df_count_groups = df_count_groups.reset_index()\n",
    "\n",
    "n_clusters = df_grouped[\"Cluster_label\"].max() + 1\n",
    "\n",
    "df_count_groups"
   ]
  },
  {
   "cell_type": "code",
   "execution_count": null,
   "metadata": {
    "ExecuteTime": {
     "end_time": "2022-04-06T10:02:34.506608Z",
     "start_time": "2022-04-06T10:02:34.327085Z"
    },
    "scrolled": false
   },
   "outputs": [],
   "source": [
    "for cl in range(n_clusters):\n",
    "    df_cluster = df_count_groups.loc[df_count_groups[\"Cluster_label\"] == cl]\n",
    "    fig = px.pie(df_cluster, values=\"count\", names=\"Space_group_number\")\n",
    "    fig.show()"
   ]
  },
  {
   "cell_type": "markdown",
   "metadata": {},
   "source": [
    "The pie chart below includes the space group number of all elements classified as outliers. We can clearly see that the outliers include all different space group numbers, and it is not possible to identify a predominant space group number characteristic of the group of outliers.\n"
   ]
  },
  {
   "cell_type": "code",
   "execution_count": null,
   "metadata": {
    "ExecuteTime": {
     "end_time": "2022-04-06T10:02:34.986853Z",
     "start_time": "2022-04-06T10:02:34.549739Z"
    }
   },
   "outputs": [],
   "source": [
    "df_cluster = (\n",
    "    df_grouped.loc[df_grouped[\"Cluster_label\"] == -1]\n",
    "    .groupby([\"Space_group_number\"])\n",
    "    .describe()[\"Atomic_density\"][[\"count\"]]\n",
    "    .reset_index()\n",
    ")\n",
    "\n",
    "px.pie(df_cluster, values=\"count\", names=\"Space_group_number\")"
   ]
  },
  {
   "cell_type": "markdown",
   "metadata": {},
   "source": [
    "# Example of supervised machine learning: Random forest\n",
    "\n",
    "---\n"
   ]
  },
  {
   "cell_type": "markdown",
   "metadata": {},
   "source": [
    "Finally, we aim to use the large data set of materials that we have retrieved from the NOMAD Archive to train an AI model.\n",
    "Previous findings obtained with the unsupervised analysis suggest that it is possible to train a model to predict materials properties using only atomic features.\n",
    "The trained model can then be used to predict properties of yet unknown materials from the knowledge of its constituent atoms.\n",
    "In this specific case, we aim to predict the average atomic density.\n",
    "\n",
    "We use the Random forest method. Random forest is available from the scikit-learn package.\n"
   ]
  },
  {
   "cell_type": "code",
   "execution_count": null,
   "metadata": {
    "ExecuteTime": {
     "end_time": "2022-04-06T10:02:35.518830Z",
     "start_time": "2022-04-06T10:02:35.504506Z"
    }
   },
   "outputs": [],
   "source": [
    "from sklearn.ensemble import RandomForestRegressor\n",
    "from sklearn.model_selection import train_test_split"
   ]
  },
  {
   "cell_type": "markdown",
   "metadata": {},
   "source": [
    "We select all atomic properties as primary features and the atomic density of the material as target feature.\n"
   ]
  },
  {
   "cell_type": "code",
   "execution_count": null,
   "metadata": {
    "ExecuteTime": {
     "end_time": "2022-04-06T10:02:35.677744Z",
     "start_time": "2022-04-06T10:02:35.674087Z"
    }
   },
   "outputs": [],
   "source": [
    "ML_primary_features = []\n",
    "ML_primary_features.append(\"Fraction_A\")\n",
    "ML_primary_features.append(\"Fraction_B\")\n",
    "ML_primary_features.append(\"Fraction_O\")\n",
    "ML_primary_features.append(\"Atomic_number_A\")\n",
    "ML_primary_features.append(\"Atomic_number_B\")\n",
    "ML_primary_features.append(\"El_affinity_A\")\n",
    "ML_primary_features.append(\"El_affinity_B\")\n",
    "ML_primary_features.append(\"Ionenergy_A\")\n",
    "ML_primary_features.append(\"Ionenergy_B\")\n",
    "ML_primary_features.append(\"Atomic_radius_A\")\n",
    "ML_primary_features.append(\"Atomic_radius_B\")\n",
    "# ML_primary_features.append('Homo_A')\n",
    "# ML_primary_features.append('Homo_B')\n",
    "# ML_primary_features.append('Lumo_A')\n",
    "# ML_primary_features.append('Lumo_B')\n",
    "# ML_primary_features.append('Weight_A')\n",
    "# ML_primary_features.append('Weight_B')\n",
    "\n",
    "\n",
    "ML_target_features = []\n",
    "ML_target_features.append(\"Atomic_density\")"
   ]
  },
  {
   "cell_type": "markdown",
   "metadata": {},
   "source": [
    "Our dataset is divided into a train set and a test set. The model is trained only with the train set, while ignoring the values in the test set. This allows to test the prediction capability of the model on data that have not been seen.\n"
   ]
  },
  {
   "cell_type": "code",
   "execution_count": null,
   "metadata": {
    "ExecuteTime": {
     "end_time": "2022-04-06T10:02:35.900574Z",
     "start_time": "2022-04-06T10:02:35.895058Z"
    },
    "scrolled": true
   },
   "outputs": [],
   "source": [
    "X_train, X_test, y_train, y_test = train_test_split(\n",
    "    df[ML_primary_features], df[ML_target_features], test_size=0.2\n",
    ")"
   ]
  },
  {
   "cell_type": "markdown",
   "metadata": {},
   "source": [
    "We train here the model.\n"
   ]
  },
  {
   "cell_type": "code",
   "execution_count": null,
   "metadata": {
    "ExecuteTime": {
     "end_time": "2022-04-06T10:02:36.696648Z",
     "start_time": "2022-04-06T10:02:36.079646Z"
    }
   },
   "outputs": [],
   "source": [
    "random_regressor = RandomForestRegressor(\n",
    "    n_estimators=100, \n",
    "    max_depth=100, \n",
    "    max_features=5, \n",
    "    min_samples_split=5, \n",
    "    random_state=0\n",
    ")\n",
    "random_regressor.fit(X_train, y_train.to_numpy().ravel())"
   ]
  },
  {
   "cell_type": "markdown",
   "metadata": {
    "ExecuteTime": {
     "end_time": "2020-10-09T14:57:30.820417Z",
     "start_time": "2020-10-09T14:57:30.673828Z"
    }
   },
   "source": [
    "After training, we check the accuracy of the model.\n"
   ]
  },
  {
   "cell_type": "code",
   "execution_count": null,
   "metadata": {
    "ExecuteTime": {
     "end_time": "2022-04-06T10:02:36.731939Z",
     "start_time": "2022-04-06T10:02:36.697645Z"
    }
   },
   "outputs": [],
   "source": [
    "y_predict = random_regressor.predict(X_test)\n",
    "print(\n",
    "    f\"The Ai model predicts the atomic density on a test set with an average error of \",\n",
    "    f\"{np.mean(np.abs(y_predict - y_test.to_numpy().flatten())):.4f} Angstroms^-1.\"\n",
    ")"
   ]
  },
  {
   "cell_type": "code",
   "execution_count": null,
   "metadata": {
    "ExecuteTime": {
     "end_time": "2022-04-06T10:02:36.901875Z",
     "start_time": "2022-04-06T10:02:36.823116Z"
    }
   },
   "outputs": [],
   "source": [
    "y_predict = random_regressor.predict(X_train)\n",
    "print(\n",
    "    \"The Ai model predicts the atomic density on a training set with an average error of \",\n",
    "    f\"{np.mean(np.abs(y_predict - y_train.to_numpy().flatten())):.4f} Angstroms^-1.\"\n",
    ")"
   ]
  },
  {
   "cell_type": "code",
   "execution_count": null,
   "metadata": {
    "ExecuteTime": {
     "end_time": "2022-04-06T10:02:37.050156Z",
     "start_time": "2022-04-06T10:02:37.014244Z"
    },
    "scrolled": true
   },
   "outputs": [],
   "source": [
    "y_predict = random_regressor.predict(X_test)\n",
    "X_test = X_test.assign(Atomic_density=y_predict)\n",
    "\n",
    "df_A_pred = X_test[[\"Atomic_number_A\", \"Atomic_density\"]].rename(\n",
    "    columns={\"Atomic_number_A\": \"Atomic_number\"}\n",
    ")\n",
    "\n",
    "df_B_pred = X_test[[\"Atomic_number_B\", \"Atomic_density\"]].rename(\n",
    "    columns={\"Atomic_number_B\": \"Atomic_number\"}\n",
    ")\n",
    "\n",
    "df_AB_pred = pd.concat([df_A_pred, df_B_pred], ignore_index=True)\n",
    "\n",
    "df_A = df[[\"Atomic_number_A\", \"Atomic_density\"]].rename(\n",
    "    columns={\"Atomic_number_A\": \"Atomic_number\"}\n",
    ")\n",
    "\n",
    "df_B = df[[\"Atomic_number_B\", \"Atomic_density\"]].rename(\n",
    "    columns={\"Atomic_number_B\": \"Atomic_number\"}\n",
    ")\n",
    "\n",
    "df_AB = pd.concat([df_A, df_B], ignore_index=True)"
   ]
  },
  {
   "cell_type": "code",
   "execution_count": null,
   "metadata": {
    "ExecuteTime": {
     "end_time": "2022-04-06T10:02:37.885426Z",
     "start_time": "2022-04-06T10:02:37.877143Z"
    },
    "scrolled": true
   },
   "outputs": [],
   "source": [
    "xaxis = df_AB.groupby(\"Atomic_number\").mean().reset_index().to_numpy()[:, 0]\n",
    "yaxis = df_AB.groupby(\"Atomic_number\").mean().reset_index().to_numpy()[:, 1]"
   ]
  },
  {
   "cell_type": "markdown",
   "metadata": {},
   "source": [
    "In the following plot, we see the average atomic density of ternary elements composed of Oxygen and another element, whose atomic number is given by the x-axis. Therefore, all values are averaged over the third element.\n",
    "\n",
    "Plots show the predictions of the trained model on the test set, and on the kwnon values of the training set that are taken as reference values. Each point shows also the standard deviation. We emphasize that, considering that each value on the plot is given by an average over all elements in the periodic table, the standard deviation cannot go to zero by construction, even in the limit of taking all possible combinations. We then aim that averages and standard deviations predicted by our model are comparable to the ones of the reference model.\n"
   ]
  },
  {
   "cell_type": "code",
   "execution_count": null,
   "metadata": {
    "ExecuteTime": {
     "end_time": "2022-04-06T10:02:50.170002Z",
     "start_time": "2022-04-06T10:02:49.939522Z"
    },
    "scrolled": false
   },
   "outputs": [],
   "source": [
    "plt.figure(figsize=(10, 6))\n",
    "\n",
    "x = df_AB.groupby([\"Atomic_number\"]).mean().index.to_numpy().flatten()\n",
    "y = df_AB.groupby([\"Atomic_number\"]).mean().to_numpy().flatten()\n",
    "std = df_AB.groupby([\"Atomic_number\"]).std().to_numpy().flatten()\n",
    "\n",
    "plt.errorbar(x, y, yerr=std.T, ls=\"\", lw=3, marker=\"s\", label=\"Reference value\")\n",
    "x = df_AB_pred.groupby([\"Atomic_number\"]).mean().index.to_numpy()\n",
    "y = df_AB_pred.groupby([\"Atomic_number\"]).mean().to_numpy().flatten()\n",
    "std = df_AB_pred.groupby([\"Atomic_number\"]).std().to_numpy().flatten()\n",
    "\n",
    "plt.errorbar(x, y, yerr=std.T, ls=\"\", lw=1.5, marker=\"s\", label=\"AI prediction\")\n",
    "\n",
    "plt.legend(loc=\"upper right\", fontsize=\"x-large\")\n",
    "plt.xlabel(\"Atomic number\", fontsize=\"x-large\")\n",
    "plt.ylabel(r\"Atomic density [$\\AA^{-1}$]\", fontsize=\"x-large\")\n",
    "plt.xticks([3, 11, 19, 37, 55, 89], fontsize=\"x-large\")\n",
    "plt.yticks(fontsize=\"x-large\");"
   ]
  },
  {
   "cell_type": "markdown",
   "metadata": {},
   "source": [
    "In the plot above, we can see that values predicted by the AI model are comparable to the reference values. In addition, we observe that the atomic density follows periodic trends, as values tend to be lower in the beginning and in the end of each row of the periodic table.\n"
   ]
  },
  {
   "cell_type": "code",
   "execution_count": null,
   "metadata": {},
   "outputs": [],
   "source": []
  },
  {
   "cell_type": "code",
   "execution_count": null,
   "metadata": {},
   "outputs": [],
   "source": []
  }
 ],
 "metadata": {
  "kernelspec": {
   "display_name": "Python 3 (ipykernel)",
   "language": "python",
   "name": "python3"
  },
  "language_info": {
   "codemirror_mode": {
    "name": "ipython",
    "version": 3
   },
   "file_extension": ".py",
   "mimetype": "text/x-python",
   "name": "python",
   "nbconvert_exporter": "python",
   "pygments_lexer": "ipython3",
   "version": "3.9.13"
  }
 },
 "nbformat": 4,
 "nbformat_minor": 4
}
